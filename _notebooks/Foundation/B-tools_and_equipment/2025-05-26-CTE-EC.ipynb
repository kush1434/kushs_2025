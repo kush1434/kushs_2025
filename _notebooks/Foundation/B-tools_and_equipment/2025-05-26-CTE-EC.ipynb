{
 "cells": [
  {
   "cell_type": "markdown",
   "id": "20d79cf0",
   "metadata": {},
   "source": []
  },
  {
   "cell_type": "markdown",
   "id": "a102b202",
   "metadata": {},
   "source": [
    "![post]({{site.baseurl}}/images/s1.png)\n",
    "\n",
    "![post]({{site.baseurl}}/images/s2.png)\n",
    "\n",
    "![post]({{site.baseurl}}/images/s3.png)"
   ]
  },
  {
   "cell_type": "markdown",
   "id": "1ba07540",
   "metadata": {},
   "source": [
    " I arrived at the event just as it was starting and immediately checked out the CSP section. After that, I explored different booths such as the Northrop Grumman booth, inventors club, and the stock market game. I was there from around 5:00 PM and spent about 45 mins exploring everything. I was really inspired by the stock market game and plan to join it soon. I also hope to work on a computer science project next year that I can present like this."
   ]
  }
 ],
 "metadata": {
  "language_info": {
   "name": "python"
  }
 },
 "nbformat": 4,
 "nbformat_minor": 5
}
