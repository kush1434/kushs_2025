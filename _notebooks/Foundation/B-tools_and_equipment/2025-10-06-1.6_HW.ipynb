{
 "cells": [
  {
   "cell_type": "markdown",
   "id": "ee025c4d",
   "metadata": {},
   "source": []
  },
  {
   "cell_type": "markdown",
   "id": "5e4c6c81",
   "metadata": {},
   "source": [
    "# Popcorn Hack #1"
   ]
  },
  {
   "cell_type": "code",
   "execution_count": null,
   "id": "4b602646",
   "metadata": {
    "vscode": {
     "languageId": "java"
    }
   },
   "outputs": [],
   "source": [
    "// Compound assignment demo in a complete Java class\n",
    "public class CompoundAssignmentDemo {\n",
    "    public static void main(String[] args) {\n",
    "        int playerScore = 1000;\n",
    "        int playerHealth = 100;\n",
    "        int enemiesDefeated = 0;\n",
    "\n",
    "        System.out.println(\"Initial: score=\" + playerScore + \", health=\" + playerHealth + \", enemies=\" + enemiesDefeated);\n",
    "\n",
    "        // Player defeats an enemy worth 250 points\n",
    "        playerScore += 250;  // compound assignment for addition\n",
    "        System.out.println(\"After defeating enemy: score=\" + playerScore);\n",
    "\n",
    "        // Player takes 15 damage\n",
    "        playerHealth -= 15;  // compound assignment for subtraction\n",
    "        System.out.println(\"After taking damage: health=\" + playerHealth);\n",
    "\n",
    "        // Enemy count goes up\n",
    "        enemiesDefeated += 1;  // compound assignment for addition\n",
    "        System.out.println(\"Enemies defeated: \" + enemiesDefeated);\n",
    "\n",
    "        // Boss battle: double the current score!\n",
    "        playerScore *= 2;  // compound assignment for multiplication\n",
    "        System.out.println(\"After boss: score=\" + playerScore);\n",
    "\n",
    "        // Healing potion restores health to 80% of current (multiply by 4/5)\n",
    "        playerHealth *= 4;  // multiply by 4\n",
    "        playerHealth /= 5;  // divide by 5 to get 4/5 (80%) of previous\n",
    "        System.out.println(\"After healing potion: health=\" + playerHealth);\n",
    "    }\n",
    "}"
   ]
  },
  {
   "cell_type": "markdown",
   "id": "1249f5a9",
   "metadata": {},
   "source": [
    "# Popcorn Hack #2"
   ]
  },
  {
   "cell_type": "code",
   "execution_count": null,
   "id": "40e271c4",
   "metadata": {
    "vscode": {
     "languageId": "java"
    }
   },
   "outputs": [],
   "source": [
    "public class ScoreUpdater {\n",
    "    public static void main(String[] args) {\n",
    "        int score = 100;\n",
    "\n",
    "        // Deduct points for a wrong answer\n",
    "        score -= 20;  // subtract 20 points for a wrong answer\n",
    "        System.out.println(\"Score after wrong answer: \" + score);\n",
    "\n",
    "        // Double the score with a power-up\n",
    "        score *= 2;  // double the score with a power-up\n",
    "        System.out.println(\"Score after power-up: \" + score);\n",
    "\n",
    "        // Find remainder after dividing by 7\n",
    "        score %= 7;  // find remainder when score is divided by 7\n",
    "        System.out.println(\"Score after dividing by 7: \" + score);\n",
    "    }\n",
    "}"
   ]
  },
  {
   "cell_type": "markdown",
   "id": "a800789c",
   "metadata": {},
   "source": [
    "# Homework Option A"
   ]
  },
  {
   "cell_type": "code",
   "execution_count": null,
   "id": "ecd83d8a",
   "metadata": {
    "vscode": {
     "languageId": "java"
    }
   },
   "outputs": [],
   "source": [
    "public class SocialMediaSimulator {\n",
    "    public static void main(String[] args) {\n",
    "        \n",
    "        // Initial variables representing the social media influencer's data\n",
    "        int followers = 500;        // Starting number of followers\n",
    "        int posts = 5;              // Number of posts made\n",
    "        int engagement = 100;       // Total engagement (likes/comments)\n",
    "        double sponsorshipEarnings = 0.0; // Earnings from sponsorships\n",
    "        int position = 50;          // Ranking position (lower is better)\n",
    "\n",
    "        System.out.println(\"=== SOCIAL MEDIA SIMULATOR ===\");\n",
    "        System.out.println(\"Starting followers: \" + followers);\n",
    "        \n",
    "        // Gain followers from a viral post\n",
    "        followers += 250; // +250 followers from a viral post\n",
    "        System.out.println(\"\\nPosted a new viral video!\");\n",
    "        System.out.println(\"Followers: \" + followers + \" (+250 from the viral video)\");\n",
    "\n",
    "        // Lose followers from a controversial post\n",
    "        followers -= 50;  // -50 followers from a controversial opinion post\n",
    "        System.out.println(\"\\nControversial opinion posted...\");\n",
    "        System.out.println(\"Followers: \" + followers + \" (-50 from upset followers)\");\n",
    "\n",
    "        // Double engagement due to a trending hashtag\n",
    "        engagement *= 2;  // Double the engagement with a trending hashtag\n",
    "        System.out.println(\"\\nTrending hashtag boost!\");\n",
    "        System.out.println(\"Engagement: \" + engagement + \" (doubled from trending hashtag)\");\n",
    "\n",
    "        // Calculate average engagement per post\n",
    "        int avgEngagement = engagement / posts;  // Average engagement per post\n",
    "        System.out.println(\"\\nAverage engagement per post: \" + avgEngagement);\n",
    "\n",
    "        // Simulate sponsorship earnings from brand deals\n",
    "        sponsorshipEarnings += 500.0;  // +500 from a sponsorship deal\n",
    "        System.out.println(\"\\nSponsorship earnings: $\" + sponsorshipEarnings);\n",
    "\n",
    "        // Find the influencer's final ranking position\n",
    "        position %= 100;  // Rank position wraps around when it exceeds 100\n",
    "        System.out.println(\"\\nFinal ranking position: \" + position);\n",
    "\n",
    "        System.out.println(\"\\n=== SIMULATION COMPLETE ===\");\n",
    "    }\n",
    "}\n"
   ]
  }
 ],
 "metadata": {
  "language_info": {
   "name": "python"
  }
 },
 "nbformat": 4,
 "nbformat_minor": 5
}
