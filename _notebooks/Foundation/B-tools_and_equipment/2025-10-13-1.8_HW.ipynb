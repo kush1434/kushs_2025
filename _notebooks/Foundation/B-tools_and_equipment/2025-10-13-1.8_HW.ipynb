{
 "cells": [
  {
   "cell_type": "markdown",
   "id": "514b62a5",
   "metadata": {},
   "source": []
  },
  {
   "cell_type": "markdown",
   "id": "e489b11e",
   "metadata": {},
   "source": [
    "# Homework Hacks"
   ]
  },
  {
   "cell_type": "code",
   "execution_count": null,
   "id": "1c4c7213",
   "metadata": {
    "vscode": {
     "languageId": "java"
    }
   },
   "outputs": [],
   "source": [
    "public class Calculator {\n",
    "    \n",
    "    /**\n",
    "     * Main method that demonstrates the addition functionality.\n",
    "     * Creates two integer values, adds them together, and displays the result.\n",
    "     * \n",
    "     * @param args Command line arguments (not used)\n",
    "     */\n",
    "    public static void main(String[] args) {\n",
    "        int firstNumber = 5;\n",
    "        int secondNumber = 10;\n",
    "        int sum = add(firstNumber, secondNumber);\n",
    "        System.out.println(\"The answer is \" + sum);\n",
    "    }\n",
    "    \n",
    "    /**\n",
    "     * Adds two integers and returns the sum.\n",
    "     * \n",
    "     * @param a The first integer to add\n",
    "     * @param b The second integer to add\n",
    "     * @return The sum of a and b\n",
    "     */\n",
    "    public static int add(int a, int b) {\n",
    "        return a + b;\n",
    "    }\n",
    "}"
   ]
  },
  {
   "cell_type": "code",
   "execution_count": null,
   "id": "b9288539",
   "metadata": {
    "vscode": {
     "languageId": "java"
    }
   },
   "outputs": [],
   "source": [
    "public boolean enrollStudent(String studentId, String courseCode, int semester) {\n",
    "    Student student = findStudentById(studentId);\n",
    "    if (student == null) return false;\n",
    "    \n",
    "    Course course = findCourseByCode(courseCode);\n",
    "    if (course == null) return false;\n",
    "    \n",
    "    if (course.isFull()) return false;\n",
    "    if (student.hasScheduleConflict(course)) return false;\n",
    "    if (!student.hasPrerequisites(course)) return false;\n",
    "    if (student.getCreditHours() + course.getCreditHours() > 18) return false;\n",
    "    \n",
    "    student.addCourse(course);\n",
    "    course.addStudent(student);\n",
    "    recordEnrollmentTransaction(studentId, courseCode, semester);\n",
    "    return true;\n",
    "}\n"
   ]
  },
  {
   "cell_type": "markdown",
   "id": "cc76852b",
   "metadata": {
    "vscode": {
     "languageId": "java"
    }
   },
   "source": [
    "Question 1: Why is documentation more important in team projects?\n",
    "Answer: In team projects, multiple people need to understand code they didn't write.\n",
    "Documentation helps with knowledge sharing, onboarding new members, and reduces the\n",
    "need to ask the original author how things work. In solo projects, you already know\n",
    "your own code.\n",
    "\n",
    "Question 2: When SHOULD and SHOULD NOT document?\n",
    "SHOULD: Complex methods with business logic, multiple parameters, or non-obvious behavior.\n",
    "Example: A loan payment calculator with a complex formula.\n",
    "\n",
    "SHOULD NOT: Simple getters/setters where the name explains everything.\n",
    "Example: getName() or setAge() - the method name is self-explanatory."
   ]
  }
 ],
 "metadata": {
  "language_info": {
   "name": "python"
  }
 },
 "nbformat": 4,
 "nbformat_minor": 5
}
