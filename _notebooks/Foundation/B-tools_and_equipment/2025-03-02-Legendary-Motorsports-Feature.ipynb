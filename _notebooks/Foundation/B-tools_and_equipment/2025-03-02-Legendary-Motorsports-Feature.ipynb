{
 "cells": [
  {
   "cell_type": "markdown",
   "metadata": {},
   "source": []
  },
  {
   "cell_type": "markdown",
   "metadata": {},
   "source": [
    "The recommended feature provides users with suggestions for car listings. It dynamically displays relevant listings, making it easier for users to discover their future ride. The feature utilizes 2 API's, one for retrieving the listings and another to analyze a user's responses. The user may interact with the functionalities of display, updating, creating, and even deleting their favorites. Moving on to my feature, the recommended page makes it easier for users to find their future ride. \n",
    "\n",
    "[To learn more press me!](https://tvick22.github.io/personal_flocker_frontend/recommended)\n",
    "\n",
    "![post]({{site.baseurl}}/images/Retrospective/UI_image.png)\n"
   ]
  },
  {
   "cell_type": "markdown",
   "metadata": {},
   "source": [
    "# [CPT Requirements](https://apcentral.collegeboard.org/media/pdf/ap-csp-student-task-directions.pdf) (page 2)"
   ]
  },
  {
   "cell_type": "markdown",
   "metadata": {},
   "source": [
    "Input Handling:\n",
    "- The program takes user input when they add or update comments on recommended listings.\n",
    "- User actions like typing a comment and clicking “Update” or “Add Comment” store and update data.\n",
    "- For the CPT requirements, input handling was covered by the update comment button which updated the users data in the data base. \n",
    "\n",
    "\n",
    "![post]({{site.baseurl}}/images/Retrospective/user_input.png)\n"
   ]
  },
  {
   "cell_type": "markdown",
   "metadata": {},
   "source": [
    "Use of a Collection Type:\n",
    "- The listings are stored in JSON format, making it easy to access and display listings dynamically.\n",
    "- Stored the needed data in JSON (a dictionary) format as well, passing that through in GET requests\n",
    "- For use of collection type, it was covered when passing the listings to the frontend.\n",
    "\n",
    "\n",
    "![post]({{site.baseurl}}/images/Retrospective/data_collection.png)\n"
   ]
  },
  {
   "cell_type": "markdown",
   "metadata": {},
   "source": [
    "Student-Developed Procedure:\n",
    "- The post(self) method allows users to store a recommended item in their profile by adding it to the database.\n",
    "- It retrieves user input (item name and user comment) from the request.\n",
    "- Checks for duplicates to prevent storing the same recommendation multiple times.\n",
    "- Returns a JSON response confirming success or showing an error message.\n",
    "- The Student-Developed Procedure was covered by the post function which adds the listing to the users profile.\n",
    "\n",
    "\n",
    "![post]({{site.baseurl}}/images/Retrospective/student_function.png)\n"
   ]
  },
  {
   "cell_type": "markdown",
   "metadata": {},
   "source": [
    "Algorithm with Sequencing, Selection, and Iteration:\n",
    "- Sequencing: The program retrieves relevant data and properly displays recommendations.\n",
    "- Selection: Uses conditional logic to filtering relevant content.\n",
    "- Iteration: Loops through available posts or listings.\n",
    "- The algorithm used when displaying the page to the user.\n",
    "\n",
    "\n",
    "![post]({{site.baseurl}}/images/Retrospective/algorithmic.png)\n"
   ]
  },
  {
   "cell_type": "markdown",
   "metadata": {},
   "source": [
    "Output Instructions:\n",
    "- Visual Output: Displays individual list on the frontend UI.\n",
    "- Textual Output: Shows messages like “No recommendations available” if no relevant content is found.\n",
    "- Lastly, the output instructions is covered when displaying success and failure messages to the user.\n",
    "\n",
    "\n",
    "![post]({{site.baseurl}}/images/Retrospective/output.png)\n"
   ]
  }
 ],
 "metadata": {
  "language_info": {
   "name": "python"
  }
 },
 "nbformat": 4,
 "nbformat_minor": 2
}
