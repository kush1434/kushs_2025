{
 "cells": [
  {
   "cell_type": "markdown",
   "metadata": {},
   "source": []
  },
  {
   "cell_type": "markdown",
   "metadata": {},
   "source": [
    "The recommended feature provides users with suggestions for car listings. It dynamically displays relevant listings, making it easier for users to discover their future ride. The feature utilizes 2 API's, one for retrieving the listings and another to analyze a user's responses. The user may interact with the functionalities of display, updating, creating, and even deleting their favorites. [To learn more press me!](https://tvick22.github.io/personal_flocker_frontend/recommended)\n",
    "\n",
    "<img src=\"/Users/kushshah/nighthawk/kushs_2025/images/Retrospective/UI_image.png\"  width=\"500\">"
   ]
  },
  {
   "cell_type": "markdown",
   "metadata": {},
   "source": [
    "# [CPT Requirements](https://apcentral.collegeboard.org/media/pdf/ap-csp-student-task-directions.pdf) (page 2)"
   ]
  },
  {
   "cell_type": "markdown",
   "metadata": {},
   "source": [
    "Input Handling:\n",
    "- The program takes user input when they add or update comments on recommended listings.\n",
    "- User actions like typing a comment and clicking “Update” or “Add Comment” store and update data.\n",
    "\n",
    "\n",
    "\n",
    "<img src=\"/Users/kushshah/nighthawk/kushs_2025/images/Retrospective/user_input.png\"  width=\"500\">"
   ]
  },
  {
   "cell_type": "markdown",
   "metadata": {},
   "source": [
    "Use of a Collection Type:\n",
    "- The listings are stored in JSON format, making it easy to access and display listings dynamically.\n",
    "- Stored the needed data in JSON (a dictionary) format as well, passing that through in GET requests\n",
    "\n",
    "<img src=\"/Users/kushshah/nighthawk/kushs_2025/images/Retrospective/data_collection.png\"  width=\"500\">"
   ]
  },
  {
   "cell_type": "markdown",
   "metadata": {},
   "source": [
    "Student-Developed Procedure:\n",
    "- The post(self) method allows users to store a recommended item in their profile by adding it to the database.\n",
    "- It retrieves user input (item name and user comment) from the request.\n",
    "- Checks for duplicates to prevent storing the same recommendation multiple times.\n",
    "- Returns a JSON response confirming success or showing an error message.\n",
    "\n",
    "<img src=\"/Users/kushshah/nighthawk/kushs_2025/images/Retrospective/student_function.png\"  width=\"500\">"
   ]
  },
  {
   "cell_type": "markdown",
   "metadata": {},
   "source": [
    "Algorithm with Sequencing, Selection, and Iteration:\n",
    "- Sequencing: The program retrieves relevant data and properly displays recommendations.\n",
    "- Selection: Uses conditional logic to filtering relevant content.\n",
    "- Iteration: Loops through available posts or listings.\n",
    "\n",
    "<img src=\"/Users/kushshah/nighthawk/kushs_2025/images/Retrospective/algorithmic.png\"  width=\"500\">"
   ]
  },
  {
   "cell_type": "markdown",
   "metadata": {},
   "source": [
    "Calls to Student-Developed Procedure:\n",
    "\n",
    "- The function to generate recommendations is called whenever a user views the recommended page.\n",
    "- The page updates dynamically based on new user interactions.\n",
    "📸 Image to Show: A code snippet where the recommendation function is called after user input or activity tracking.\n",
    "\n",
    "<img src=\"/Users/kushshah/nighthawk/kushs_2025/images/Retrospective/procedure.png\"  width=\"500\">"
   ]
  },
  {
   "cell_type": "markdown",
   "metadata": {},
   "source": [
    "Output Instructions:\n",
    "- Visual Output: Displays individual list on the frontend UI.\n",
    "- Textual Output: Shows messages like “No recommendations available” if no relevant content is found.\n",
    "\n",
    "<img src=\"/Users/kushshah/nighthawk/kushs_2025/images/Retrospective/output.png\"  width=\"500\">"
   ]
  }
 ],
 "metadata": {
  "language_info": {
   "name": "python"
  }
 },
 "nbformat": 4,
 "nbformat_minor": 2
}
