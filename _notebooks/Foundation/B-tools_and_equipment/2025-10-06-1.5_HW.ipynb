{
 "cells": [
  {
   "cell_type": "markdown",
   "id": "04624780",
   "metadata": {},
   "source": []
  },
  {
   "cell_type": "markdown",
   "id": "581a6a6d",
   "metadata": {},
   "source": [
    "FRQ 1. Average with correct casting"
   ]
  },
  {
   "cell_type": "code",
   "execution_count": null,
   "id": "344701bf",
   "metadata": {
    "vscode": {
     "languageId": "java"
    }
   },
   "outputs": [],
   "source": [
    "// Average utility with correct casting and a small demo\n",
    "public class AvgDemo {\n",
    "    public static double avgInt(int a, int b) {\n",
    "        return (a + b) / 2.0; // Cast to double by dividing by 2.0\n",
    "    }\n",
    "\n",
    "    public static void main(String[] args) {\n",
    "        // Demo calls\n",
    "        System.out.println(\"avgInt(3, 4) = \" + avgInt(3, 4));\n",
    "        System.out.println(\"avgInt(5, 6) = \" + avgInt(5, 6));\n",
    "    }\n",
    "}"
   ]
  },
  {
   "cell_type": "markdown",
   "id": "77f00d15",
   "metadata": {},
   "source": [
    "FRQ 2: Percentage"
   ]
  },
  {
   "cell_type": "code",
   "execution_count": null,
   "id": "7d509405",
   "metadata": {
    "vscode": {
     "languageId": "java"
    }
   },
   "outputs": [],
   "source": [
    "public static double percent(int correct, int total) {\n",
    "    if (total == 0) {\n",
    "        return 0.0; // Avoid division by zero\n",
    "    }\n",
    "    return (double) correct / total * 100; // Convert correct to double to avoid integer division\n",
    "}"
   ]
  },
  {
   "cell_type": "markdown",
   "id": "5cddb4a2",
   "metadata": {},
   "source": [
    "FRQ 3: Safe Remainder\n"
   ]
  },
  {
   "cell_type": "code",
   "execution_count": null,
   "id": "0da02511",
   "metadata": {
    "vscode": {
     "languageId": "java"
    }
   },
   "outputs": [],
   "source": [
    "public static int safeMod(int a, int b) {\n",
    "    if (b == 0) {\n",
    "        return 0; // Return 0 if b is 0 to avoid division by zero\n",
    "    }\n",
    "    return a % b; // Normal modulus operation\n",
    "}"
   ]
  }
 ],
 "metadata": {
  "language_info": {
   "name": "python"
  }
 },
 "nbformat": 4,
 "nbformat_minor": 5
}
