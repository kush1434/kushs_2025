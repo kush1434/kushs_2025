{
 "cells": [
  {
   "cell_type": "markdown",
   "id": "e0421212",
   "metadata": {},
   "source": []
  },
  {
   "cell_type": "markdown",
   "id": "a225fe37",
   "metadata": {},
   "source": [
    "# Final Retrospective\n",
    "\n",
    "This year in CSP has been a great learning experience. At the start, I had limited coding knowledge, but now I feel much more confident building projects. I’ve improved a lot in understanding how to design solutions using code. Overall, this class helped me grow not just technically, but also in how I approach challenges logically and creatively.\n",
    "\n",
    "I believe my greatest achievment was my work on Legendary Motorsports. It brought together everything I learned in CSP and pushed me to go beyond. Working with a team of six using the AGILE methodology taught me how to collaborate effectively and manage tasks in a real development cycle. I contributed to building a full-stack Flask web app, integrating real-time car data and a user favorites system with full CRUD functionality. Setting up user authentication and deploying the site with AWS EC2 and Nginx showed me what it takes to bring a project from idea to reality. It was a challenging and rewarding experience that showed how far I’ve come this year."
   ]
  },
  {
   "cell_type": "markdown",
   "id": "bb8e7655",
   "metadata": {},
   "source": [
    "The main skills I developed include:\n",
    "- Full-stack development skills\n",
    "- API integration experience\n",
    "- Strong problem-solving and initiative\n",
    "- Effective team collaboration (AGILE)\n",
    "- User authentication and CRUD implementation\n",
    "- Real-world deployment experience (AWS + Nginx)"
   ]
  },
  {
   "cell_type": "markdown",
   "id": "162a7ffb",
   "metadata": {},
   "source": [
    "One of my unique qualities is my ability to quickly learn and apply new technologies under pressure. During the Legendary Motorsports project, I taught myself how to configure Nginx and and a few of the key commands to deploy our Flask app on AWS EC2. This enabled our team to meet the deadline with a fully functional live site."
   ]
  },
  {
   "cell_type": "markdown",
   "id": "0faebbd6",
   "metadata": {},
   "source": [
    "Throughout this year I have worked diligently on the homeworks and learned so much. They taught me the basics of algorithms and how we can use different tools to represent them with programs. Additionally, they helped me prepare for the AP exam which was in May. Here I have shown my work as my scores will reflect how I have been working.\n",
    "\n",
    "![Homework image]({{site.baseurl}}/images/homework_evidence.png)\n"
   ]
  },
  {
   "cell_type": "markdown",
   "id": "c292a888",
   "metadata": {},
   "source": [
    "Throughout the year I have practiced presenting my projects at events like N@TM. Here I presented my first 2 trimester projects. For the 3rd trimester, for the time that I worked on Crosswise, I presented to important endorsers like Derek Lee. This class allowed me to build my professional and casual presenting skills.\n",
    "\n"
   ]
  },
  {
   "cell_type": "markdown",
   "id": "6cf7dbd5",
   "metadata": {},
   "source": [
    "# Statistics\n",
    "\n",
    "![Commits]({{site.baseurl}}/images/commits.png)\n",
    "\n",
    "Here I have shown an image of my commit history. At the beginning of the year my commits starting racking up. As time went on, things got more challenging. It took me more time to solve problems dealing with algorithms and different data types. Towards the end of the year, while working on a lesson for Mr. Mort, my commits required a lot of testing before I sent them through to the repository. Additionally, while learning the new concept of web sockets, it took more time reading documentation, watching videos, and understanding diagrams rather than actual programming. "
   ]
  },
  {
   "cell_type": "markdown",
   "id": "055f97af",
   "metadata": {},
   "source": [
    "![Issues]({{site.baseurl}}/images/issues.png)\n",
    "\n",
    "Here I have shown an image of my issues. These issues I have created through the past month and a half while working on the lesson mini-project. They allow me to organize my work and documentation before putting them into my code and committing. Additionally, they allow me to make burn-down lists to keep track of my progress. Here is an example:\n",
    "\n",
    "![Burn-down List]({{site.baseurl}}/images/burndown.png)\n"
   ]
  },
  {
   "cell_type": "markdown",
   "id": "8ede0075",
   "metadata": {},
   "source": [
    "Final grade prediction:\n",
    "\n",
    "![Final Grade]({{site.baseurl}}/images/final_grade.png)\n"
   ]
  }
 ],
 "metadata": {
  "language_info": {
   "name": "python"
  }
 },
 "nbformat": 4,
 "nbformat_minor": 5
}
