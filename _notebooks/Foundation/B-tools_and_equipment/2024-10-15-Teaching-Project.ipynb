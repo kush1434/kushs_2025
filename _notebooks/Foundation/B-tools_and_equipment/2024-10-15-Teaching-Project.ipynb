{
 "cells": [
  {
   "cell_type": "markdown",
   "metadata": {},
   "source": [
    "# Hack"
   ]
  },
  {
   "cell_type": "code",
   "execution_count": 5,
   "metadata": {},
   "outputs": [
    {
     "name": "stdout",
     "output_type": "stream",
     "text": [
      "Welcome to the Adventure Game!\n",
      "Kush Let's start your adventure.\n",
      "You have 2 choices on the road.\n",
      "You walk into the cave. It's dark and quiet.\n",
      "You find an old chest! Nice!\n",
      "Out of nowhere, you see a strange NPC blocking your way.\n",
      "The NPC says: 'Hey! I've got a riddle for you!'\n",
      "'Nice job!' the NPC says. 'You got it!'\n"
     ]
    }
   ],
   "source": [
    "def start_game():\n",
    "    print(\"Welcome to the Adventure Game!\")\n",
    "    name = input(\"What's your name? \")\n",
    "    print(name, \"Let's start your adventure.\")\n",
    "\n",
    "    print(\"You have 2 choices on the road.\")\n",
    "    choice = input(\"Do you go to the cave or the forest? (cave/forest): \").lower()\n",
    "\n",
    "    if choice == 'cave':\n",
    "        cave_adventure()\n",
    "    elif choice == 'forest':\n",
    "        forest_adventure()\n",
    "    else:\n",
    "        print(\"That wasn't a valid option. Let's try that again.\")\n",
    "        start_game()\n",
    "\n",
    "def cave_adventure():\n",
    "    print(\"You walk into the cave. It's dark and quiet.\")\n",
    "    choice = input(\"Do you explore deeper or leave? (explore/leave): \").lower()\n",
    "\n",
    "    if choice == 'explore':\n",
    "        print(\"You find an old chest! Nice!\")\n",
    "        npc_encounter()\n",
    "    else:\n",
    "        print(\"You decided to leave the cave. Better safe than sorry.\")\n",
    "\n",
    "def forest_adventure():\n",
    "    print(\"You walk into the forest. It's peaceful.\")\n",
    "    choice = input(\"Do you climb a tree or keep walking? (climb/walk): \").lower()\n",
    "\n",
    "    if choice == 'climb':\n",
    "        print(\"You climb a tall tree and can see the whole forest. Amazing!\")\n",
    "        npc_encounter()\n",
    "    else:\n",
    "        print(\"You keep walking and find a quiet spot to rest.\")\n",
    "        npc_encounter()\n",
    "\n",
    "def npc_encounter():\n",
    "    print(\"Out of nowhere, you see a strange NPC blocking your way.\")\n",
    "    npc_choice = input(\"Do you talk to them or ignore them? (talk/ignore): \").lower()\n",
    "\n",
    "    if npc_choice == 'talk':\n",
    "        print(\"The NPC says: 'Hey! I've got a riddle for you!'\")\n",
    "        answer = input(\"Riddle: What has keys but can't open doors? \").lower()\n",
    "        if answer == 'piano':\n",
    "            print(\"'Nice job!' the NPC says. 'You got it!'\")\n",
    "        else:\n",
    "            print(\"'That's not it,' the NPC says. 'Better luck next time.'\")\n",
    "    else:\n",
    "        print(\"You ignore the NPC and keep moving.\")\n",
    "\n",
    "start_game()\n"
   ]
  }
 ],
 "metadata": {
  "kernelspec": {
   "display_name": "venv",
   "language": "python",
   "name": "python3"
  },
  "language_info": {
   "codemirror_mode": {
    "name": "ipython",
    "version": 3
   },
   "file_extension": ".py",
   "mimetype": "text/x-python",
   "name": "python",
   "nbconvert_exporter": "python",
   "pygments_lexer": "ipython3",
   "version": "3.12.5"
  }
 },
 "nbformat": 4,
 "nbformat_minor": 2
}
