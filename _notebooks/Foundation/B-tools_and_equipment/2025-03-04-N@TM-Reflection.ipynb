{
 "cells": [
  {
   "cell_type": "markdown",
   "metadata": {},
   "source": []
  },
  {
   "cell_type": "markdown",
   "metadata": {},
   "source": [
    "# N@TM Survery Feedback\n",
    "\n",
    "| Category                                      | Average |\n",
    "|-----------------------------------------------|---------|\n",
    "| Rate our project based on creativity         | 4.68    |\n",
    "| Rate our project based on functionality      | 4.56    |\n",
    "| Rate our project based on consistency of design | 4.92 |\n",
    "| Rating based on presentation skills          | 4.64    |\n",
    "\n",
    "[All Responses](https://docs.google.com/spreadsheets/d/17jnuhTy8EZX1AU7uoK0efZ8Z1mU__hAomKNrKDpBGLI/edit?gid=1182409763#gid=1182409763)\n"
   ]
  },
  {
   "cell_type": "markdown",
   "metadata": {},
   "source": [
    "Our project is visually intriguing and holds realistic features. Some key things people had comments on are our presentation skills; people wanted our presentation to be a little smoother, and to have everyone present instead of just a few people. Other people said that the whole project was complete and nice-looking, but it was a little confusing with the navigation. Overall, N@TM was a success, and we learned a lot from it. \n",
    "\n",
    "<br>\n",
    "\n",
    "![post]({{site.baseurl}}/images/Retrospective/natm1.png)\n",
    "\n",
    "<br>\n",
    "\n",
    "<br>\n",
    "\n",
    "![post]({{site.baseurl}}/images/Retrospective/natm2.png)\n"
   ]
  }
 ],
 "metadata": {
  "language_info": {
   "name": "python"
  }
 },
 "nbformat": 4,
 "nbformat_minor": 2
}
