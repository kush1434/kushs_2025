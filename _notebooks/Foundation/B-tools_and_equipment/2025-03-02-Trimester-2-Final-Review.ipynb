{
 "cells": [
  {
   "cell_type": "markdown",
   "metadata": {},
   "source": []
  },
  {
   "cell_type": "markdown",
   "metadata": {},
   "source": [
    "These are the resources for my Trimester 2 Retrospective. Here I have listed my top 5 accomplishments throughout the last 12 weeks, my reflection on N@TM, College Board MCQ, and an overview of my feature at Legendary Motorsports and how it fulfills the CPT requirments."
   ]
  },
  {
   "cell_type": "markdown",
   "metadata": {},
   "source": [
    "[Accomplishments](https://kush1434.github.io/kushs_2025/2025/03/03/5-Accomplishments_IPYNB_2_.html)\n",
    "<br>\n",
    "[N@TM Reflection](https://kush1434.github.io/kushs_2025/2025/03/04/N@TM-Reflection_IPYNB_2_.html)\n",
    "<br>\n",
    "[Feature](https://kush1434.github.io/kushs_2025/2025/03/02/Legendary-Motorsports-Feature_IPYNB_2_.html)\n",
    "<br>\n",
    "[MCQ Review](https://kush1434.github.io/kushs_2025/2025/03/02/MCQ-Review_IPYNB_2_.html)\n",
    "<br>\n",
    "[Self - Grade](https://kush1434.github.io/kushs_2025/2025/03/02/Self-Grade_IPYNB_2_.html)\n"
   ]
  }
 ],
 "metadata": {
  "language_info": {
   "name": "python"
  }
 },
 "nbformat": 4,
 "nbformat_minor": 2
}
