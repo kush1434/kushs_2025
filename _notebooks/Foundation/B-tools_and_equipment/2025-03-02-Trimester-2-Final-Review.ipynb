{
 "cells": [
  {
   "cell_type": "markdown",
   "metadata": {},
   "source": []
  },
  {
   "cell_type": "markdown",
   "metadata": {},
   "source": [
    "These are the resources for my Trimester 2 Retrospective. Here I have listed my top 5 accomplishments throughout the last 12 weeks, my reflection on N@TM, College Board MCQ, and an overview of my feature at Legendary Motorsports and how it fulfills the CPT requirments."
   ]
  },
  {
   "cell_type": "markdown",
   "metadata": {},
   "source": [
    "[Accomplishments](/Users/kushshah/nighthawk/kushs_2025/_notebooks/Foundation/B-tools_and_equipment/2025-03-03-5-Accomplishments.ipynb)\n",
    "<br>\n",
    "[N@TM Reflection](/Users/kushshah/nighthawk/kushs_2025/_notebooks/Foundation/B-tools_and_equipment/2025-03-04-N@TM-Reflection.ipynb)\n",
    "<br>\n",
    "[Feature](/Users/kushshah/nighthawk/kushs_2025/_notebooks/Foundation/B-tools_and_equipment/2025-03-02-Legendary-Motorsports-Feature.ipynb)\n",
    "<br>\n",
    "[MCQ Review](/Users/kushshah/nighthawk/kushs_2025/_notebooks/Foundation/B-tools_and_equipment/2025-03-02-MCQ-Review.ipynb)"
   ]
  }
 ],
 "metadata": {
  "language_info": {
   "name": "python"
  }
 },
 "nbformat": 4,
 "nbformat_minor": 2
}
