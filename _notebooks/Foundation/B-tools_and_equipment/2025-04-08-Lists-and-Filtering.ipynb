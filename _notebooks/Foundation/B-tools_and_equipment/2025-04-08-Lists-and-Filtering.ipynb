{
 "cells": [
  {
   "cell_type": "markdown",
   "id": "48e96f09",
   "metadata": {},
   "source": []
  },
  {
   "cell_type": "markdown",
   "id": "5da32779",
   "metadata": {},
   "source": [
    "# Popcorn Hacks:\n",
    "\n",
    "1. What are some possible benefits of using lists? What are some real world examples of lists being used in code ?\n",
    "\n",
    "Store lots of data in one place\n",
    "\n",
    "2. What does this code output?\n",
    "\n",
    "eraser\n",
    "\n",
    "3. What are some real world examples of filtering algorithms?\n",
    "\n",
    "Spam in inbox or spotify artist filtering\n"
   ]
  },
  {
   "cell_type": "markdown",
   "id": "8813061e",
   "metadata": {},
   "source": [
    "# Homework\n",
    "\n",
    "1."
   ]
  },
  {
   "cell_type": "code",
   "execution_count": null,
   "id": "e590658b",
   "metadata": {},
   "outputs": [],
   "source": [
    "# Initial list of fruits\n",
    "fruits = [\"apple\", \"banana\", \"cherry\", \"date\", \"elderberry\"]\n",
    "\n",
    "# List Procedure 1: Append an item to the list\n",
    "fruits.append(\"fig\")  # Adds \"fig\" at the end\n",
    "\n",
    "# List Procedure 2: Remove an item\n",
    "fruits.remove(\"banana\")  # Removes \"banana\"\n",
    "\n",
    "# List Procedure 3: Sort the list\n",
    "fruits.sort()  # Sorts the list alphabetically\n",
    "\n",
    "# Print the updated list\n",
    "print(fruits)  # ['apple', 'cherry', 'date', 'elderberry', 'fig']"
   ]
  },
  {
   "cell_type": "markdown",
   "id": "82c78987",
   "metadata": {},
   "source": [
    "2. \n",
    "\n",
    "To go through the list one by one:\n",
    "\t1.\tStart with a list: fruits = [\"apple\", \"cherry\", \"date\", \"elderberry\", \"fig\"].\n",
    "\t2.\tUse a for loop to loop through each item:\n"
   ]
  },
  {
   "cell_type": "code",
   "execution_count": null,
   "id": "f4735399",
   "metadata": {},
   "outputs": [],
   "source": [
    "for fruit in fruits:\n",
    "    print(fruit)  # Will print each item one by one"
   ]
  },
  {
   "cell_type": "markdown",
   "id": "8ef0b3b1",
   "metadata": {},
   "source": [
    "3. \n",
    "\n",
    "Condition: Keep fruits with more than 5 characters.\n",
    "\n",
    "Steps:\n",
    "\t1.\tStart with a list: fruits = [\"apple\", \"banana\", \"cherry\", \"date\", \"elderberry\", \"fig\"].\n",
    "\t2.\tConvert to a pandas DataFrame.\n",
    "\t3.\tFilter the fruits based on the length condition.\n",
    "\t4.\tConvert the filtered DataFrame back to a list.\n"
   ]
  },
  {
   "cell_type": "code",
   "execution_count": null,
   "id": "51e5ff81",
   "metadata": {},
   "outputs": [],
   "source": [
    "import pandas as pd\n",
    "\n",
    "fruits = [\"apple\", \"banana\", \"cherry\", \"date\", \"elderberry\", \"fig\"]\n",
    "\n",
    "# Convert to DataFrame\n",
    "df = pd.DataFrame(fruits, columns=[\"fruit\"])\n",
    "\n",
    "# Filter fruits where the name length is greater than 5\n",
    "filtered_fruits = df[df[\"fruit\"].str.len() > 5]\n",
    "\n",
    "# Convert back to a list\n",
    "new_fruit_list = filtered_fruits[\"fruit\"].tolist()\n",
    "\n",
    "print(new_fruit_list)  # ['banana', 'cherry', 'elderberry']"
   ]
  },
  {
   "cell_type": "markdown",
   "id": "c84939ca",
   "metadata": {},
   "source": [
    "Filtering algorithms and lists are used in real life to organize data, like sorting products by price or filtering movies by genre. For example, streaming services or shopping sites use them to narrow down choices based on specific criteria."
   ]
  }
 ],
 "metadata": {
  "language_info": {
   "name": "python"
  }
 },
 "nbformat": 4,
 "nbformat_minor": 5
}
