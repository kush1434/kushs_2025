{
 "cells": [
  {
   "cell_type": "markdown",
   "id": "68178a4a",
   "metadata": {},
   "source": []
  },
  {
   "cell_type": "markdown",
   "id": "b60b895c",
   "metadata": {},
   "source": [
    "# Popcorn Hack 1\n",
    "\n",
    "![post]({{site.baseurl}}/images/e691680b-2a48-46b3-992e-fdda8a808317.png)\n"
   ]
  },
  {
   "cell_type": "markdown",
   "id": "0334be63",
   "metadata": {
    "vscode": {
     "languageId": "plaintext"
    }
   },
   "source": [
    "# Homework Hack\n",
    "\n",
    "1. A\n",
    "2. B"
   ]
  },
  {
   "cell_type": "markdown",
   "id": "d6aa1844",
   "metadata": {},
   "source": [
    "# Popcorn Hack 2\n",
    "The reversed order is less efficient because it uses more coins as it doesn't try the largest one first."
   ]
  },
  {
   "cell_type": "markdown",
   "id": "ac9e4a58",
   "metadata": {},
   "source": [
    "# Homework Hack\n",
    "\n",
    "Changing the coin order changed how many coins were used. Using the biggest coins first gave fewer coins. Greedy works well for U.S. coins but can fail with other sets."
   ]
  },
  {
   "cell_type": "markdown",
   "id": "735382b5",
   "metadata": {},
   "source": [
    "# Popcorn Hack 3\n",
    "\n",
    "It’s undecidable because we can’t always know if a program like the loop above will ever stop running."
   ]
  },
  {
   "cell_type": "markdown",
   "id": "682ac971",
   "metadata": {},
   "source": [
    "# Popcorn Hack 4\n",
    "\n",
    "1. False\n",
    "\n",
    "2. False"
   ]
  },
  {
   "cell_type": "markdown",
   "id": "60f84b01",
   "metadata": {},
   "source": [
    "# Homwork Hack\n",
    "\n",
    "1. Decidable, you can answer with simple math\n",
    "\n",
    "2. Undecidable, theres no way to know becasue its the halting problem\n",
    "\n",
    "3. Decidable, the program can scan and see if \"banana\" is present\n",
    "\n",
    "4. Undecidable, no way to know for sure"
   ]
  }
 ],
 "metadata": {
  "language_info": {
   "name": "python"
  }
 },
 "nbformat": 4,
 "nbformat_minor": 5
}
