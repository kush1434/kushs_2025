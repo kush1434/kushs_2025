{
 "cells": [
  {
   "cell_type": "markdown",
   "metadata": {},
   "source": [
    "# 2018 MCQ Summary\n",
    "\n",
    "<hr>\n",
    "\n"
   ]
  },
  {
   "cell_type": "markdown",
   "metadata": {},
   "source": [
    "### Incorrect Questions:\n",
    "<ul>\n",
    "<li>Question 5</li>\n",
    "<li>Question 12</li>\n",
    "<li>Question 17</li>\n",
    "<li>Question 25</li>\n",
    "<li>Question 43</li>\n",
    "<li>Question 51</li>\n",
    "<li>Question 54</li>\n",
    "<li>Question 59</li>\n",
    "<li>Question 60</li>\n",
    "<li>Question 61</li>\n",
    "<li>Question 64</li>\n",
    "</ul>"
   ]
  },
  {
   "cell_type": "markdown",
   "metadata": {},
   "source": [
    "Question 5:\n",
    "\n",
    "<img src=\"/Users/kushshah/nighthawk/kushs_2025/Screenshot 2024-11-19 at 9.05.45 AM.png\" alt=\"Question\">\n",
    "\n",
    "\n"
   ]
  },
  {
   "cell_type": "markdown",
   "metadata": {},
   "source": [
    "Question 12:\n",
    "\n",
    "<img src=\"/Users/kushshah/nighthawk/kushs_2025/Screenshot 2024-11-19 at 9.14.00 AM.png\" alt=\"Question\">\n"
   ]
  },
  {
   "cell_type": "markdown",
   "metadata": {},
   "source": [
    "Question 17:\n",
    "\n",
    "<img src=\"/Users/kushshah/nighthawk/kushs_2025/Screenshot 2024-11-19 at 9.17.51 AM.png\" alt=\"Question\">\n"
   ]
  },
  {
   "cell_type": "markdown",
   "metadata": {},
   "source": [
    "Question 25:\n",
    "\n",
    "<img src=\"/Users/kushshah/nighthawk/kushs_2025/Screenshot 2024-11-19 at 9.18.29 AM.png\" alt=\"Question\">\n"
   ]
  },
  {
   "cell_type": "markdown",
   "metadata": {},
   "source": [
    "Question 43:\n",
    "\n",
    "<img src=\"/Users/kushshah/nighthawk/kushs_2025/Screenshot 2024-11-19 at 9.19.19 AM.png\" alt=\"Question\">\n"
   ]
  },
  {
   "cell_type": "markdown",
   "metadata": {},
   "source": [
    "Question 51:\n",
    "\n",
    "<img src=\"/Users/kushshah/nighthawk/kushs_2025/Screenshot 2024-11-19 at 9.20.06 AM.png\" alt=\"Question\">\n"
   ]
  },
  {
   "cell_type": "markdown",
   "metadata": {},
   "source": [
    "Question 54:\n",
    "\n",
    "<img src=\"/Users/kushshah/nighthawk/kushs_2025/Screenshot 2024-11-19 at 9.20.56 AM.png\" alt=\"Question\">\n"
   ]
  },
  {
   "cell_type": "markdown",
   "metadata": {},
   "source": [
    "Question 59:\n",
    "\n",
    "<img src=\"/Users/kushshah/nighthawk/kushs_2025/Screenshot 2024-11-19 at 9.21.34 AM.png\" alt=\"Question\">\n"
   ]
  },
  {
   "cell_type": "markdown",
   "metadata": {},
   "source": [
    "Question 60:\n",
    "\n",
    "<img src=\"/Users/kushshah/nighthawk/kushs_2025/Screenshot 2024-11-19 at 9.23.32 AM.png\" alt=\"Question\">\n"
   ]
  },
  {
   "cell_type": "markdown",
   "metadata": {},
   "source": [
    "Question 61:\n",
    "\n",
    "<img src=\"/Users/kushshah/nighthawk/kushs_2025/Screenshot 2024-11-19 at 9.27.09 AM.png\" alt=\"Question\">\n"
   ]
  },
  {
   "cell_type": "markdown",
   "metadata": {},
   "source": [
    "Question 64:\n",
    "\n",
    "<img src=\"/Users/kushshah/nighthawk/kushs_2025/Screenshot 2024-11-19 at 10.03.28 AM.png\" alt=\"Question\">\n"
   ]
  }
 ],
 "metadata": {
  "language_info": {
   "name": "python"
  }
 },
 "nbformat": 4,
 "nbformat_minor": 2
}
