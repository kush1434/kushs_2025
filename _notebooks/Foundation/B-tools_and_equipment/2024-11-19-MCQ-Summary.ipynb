{
 "cells": [
  {
   "cell_type": "markdown",
   "metadata": {},
   "source": [
    "# 2018 MCQ Summary\n",
    "\n",
    "<hr>\n",
    "\n"
   ]
  },
  {
   "cell_type": "markdown",
   "metadata": {},
   "source": [
    "### Incorrect Questions:\n",
    "<ul>\n",
    "<li>Question 5</li>\n",
    "<li>Question 12</li>\n",
    "<li>Question 17</li>\n",
    "<li>Question 25</li>\n",
    "<li>Question 43</li>\n",
    "<li>Question 51</li>\n",
    "<li>Question 54</li>\n",
    "<li>Question 59</li>\n",
    "<li>Question 60</li>\n",
    "<li>Question 61</li>\n",
    "<li>Question 64</li>\n",
    "</ul>\n",
    "\n",
    "<br>"
   ]
  },
  {
   "cell_type": "markdown",
   "metadata": {},
   "source": [
    "Question 5: Forgot to consider 3D movie ticket price."
   ]
  },
  {
   "cell_type": "markdown",
   "metadata": {},
   "source": [
    "Question 12: Did not read question correctly(question said after 2 years)."
   ]
  },
  {
   "cell_type": "markdown",
   "metadata": {},
   "source": [
    "Question 17: The digital divide is the gap between the people who have access to technology and those who don't.\n",
    "\n"
   ]
  },
  {
   "cell_type": "markdown",
   "metadata": {},
   "source": [
    "Question 25: Byte pair encoding is where character pairs are mapped.\n",
    "\n"
   ]
  },
  {
   "cell_type": "markdown",
   "metadata": {},
   "source": [
    "Question 43: O(n^2) is not a large time.\n",
    "\n"
   ]
  },
  {
   "cell_type": "markdown",
   "metadata": {},
   "source": [
    "Question 51: Symmetric encryption is where the same key is used for encryption and decrpytion.\n",
    "\n"
   ]
  },
  {
   "cell_type": "markdown",
   "metadata": {},
   "source": [
    "Question 54: Fourth() function is not a generalization of the power functions.\n",
    "\n"
   ]
  },
  {
   "cell_type": "markdown",
   "metadata": {},
   "source": [
    "Question 59: Lossy compression will provide an approximation of the orginal data.\n",
    "\n"
   ]
  },
  {
   "cell_type": "markdown",
   "metadata": {},
   "source": [
    "Question 60: Replacing each instance of repeated code with a call to a procedure uses data abstraction to manage the complexity of a program.\n",
    "\n"
   ]
  },
  {
   "cell_type": "markdown",
   "metadata": {},
   "source": [
    "Question 61: Misread question\n",
    "\n"
   ]
  },
  {
   "cell_type": "markdown",
   "metadata": {},
   "source": [
    "Question 64: Cloud computing has introduced new data-security concerns.\n",
    "\n"
   ]
  }
 ],
 "metadata": {
  "language_info": {
   "name": "python"
  }
 },
 "nbformat": 4,
 "nbformat_minor": 2
}
