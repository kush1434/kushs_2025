{
 "cells": [
  {
   "cell_type": "markdown",
   "metadata": {},
   "source": []
  },
  {
   "cell_type": "markdown",
   "metadata": {},
   "source": [
    "# Self-Grade\n",
    "\n",
    "| Item                         | Grade   | Reasoning  |\n",
    "|------------------------------|--------|------------|\n",
    "| **5 Things**                 | 4.5/5 | I believe my progress this trimester has been greatly noticable. It is reflected in my work and in my grade. These 5 things taught me many things about the AGILE methodology, how each person integrates in a project, and how software development fits into each part of the world. |\n",
    "| **Project Demo + N@TM Feedback** | 1.85/2  | I believe our N@TM presentation was really well based on the feedback we recieved. While working with Jackson and Wyatt to present our features, I learned how team presentations work when members have different roles. Each person had their own part and it was amazing to see how they fit in to the presentation and how we transitioned from feature to feature. Overall the improvment from last trimester, in my opinion, is immense. |\n",
    "| **Highlighted Feature**      | .95/1    | I believe my feature is incredibally realistic. It seems like a feature that a user may put into use and actually enjoy. However, there were some issues that I came across while integrating my API's. I used the help of Mr. Mort and Trevor to identify the problem and a solution. In all I believe I took a lot away from this project like how to fix a problem through iteration and how to gain help from others. Getting feedback from other's can always improve what you are working towards. |\n",
    "| **MCQ**                      | 1/1    | I have a blog going over my mistakes, and which specific topics I need to improve on. |\n",
    "| **Impress**                  | N/A    | TBD |\n",
    "| **Total Grade**              | 8.3/9 |  |\n"
   ]
  }
 ],
 "metadata": {
  "language_info": {
   "name": "python"
  }
 },
 "nbformat": 4,
 "nbformat_minor": 2
}
