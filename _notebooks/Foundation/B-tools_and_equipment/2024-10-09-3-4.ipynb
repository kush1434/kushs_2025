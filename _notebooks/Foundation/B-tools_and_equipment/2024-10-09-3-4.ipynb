{
 "cells": [
  {
   "cell_type": "markdown",
   "metadata": {},
   "source": [
    "# Popcorn 1"
   ]
  },
  {
   "cell_type": "code",
   "execution_count": null,
   "metadata": {},
   "outputs": [],
   "source": [
    "# Define the variables\n",
    "movie = \"Inception\"\n",
    "sport = \"Soccer\"\n",
    "pet_name = \"Buddy\"\n",
    "\n",
    "# Using concatenation\n",
    "message_concat = \"Hello, my favorite movie is \" + movie + \". My favorite sport is \" + sport + \" and my pet’s name is \" + pet_name + \".\"\n",
    "print(\"Using Concatenation:\")\n",
    "print(message_concat)\n",
    "\n",
    "# Using interpolation (f-strings)\n",
    "message_interpolation = f\"Hello, my favorite movie is {movie}. My favorite sport is {sport} and my pet’s name is {pet_name}.\"\n",
    "print(\"\\nUsing Interpolation:\")\n",
    "print(message_interpolation)"
   ]
  },
  {
   "cell_type": "markdown",
   "metadata": {},
   "source": [
    "# Popcorn 2"
   ]
  },
  {
   "cell_type": "code",
   "execution_count": null,
   "metadata": {},
   "outputs": [],
   "source": [
    "# Given string\n",
    "sentence = \"A journey of a thousand miles begins with a single step\"\n",
    "\n",
    "# 1. Extract the word “journey” using slicing\n",
    "word_journey = sentence[2:9]  # \"journey\" starts at index 2 and ends before index 9\n",
    "\n",
    "# 2. Extract the word “miles” using a negative starting index\n",
    "word_miles = sentence[-33:-28]  # Negative index slicing for \"miles\"\n",
    "\n",
    "# 3. Extract everything from the word “begins” to the end of the sentence\n",
    "word_begins_to_end = sentence[32:]  # \"begins\" starts at index 32 and goes till the end\n",
    "\n",
    "# Output the extracted words\n",
    "print(f\"Extracted word 'journey': {word_journey}\")\n",
    "print(f\"Extracted word 'miles': {word_miles}\")\n",
    "print(f\"Extracted part from 'begins' to end: {word_begins_to_end}\")"
   ]
  },
  {
   "cell_type": "markdown",
   "metadata": {},
   "source": [
    "# Popcorn 3"
   ]
  },
  {
   "cell_type": "code",
   "execution_count": null,
   "metadata": {},
   "outputs": [],
   "source": [
    "def remove_vowels(sentence):\n",
    "    # Define vowels (both uppercase and lowercase)\n",
    "    vowels = \"aeiouAEIOU\"\n",
    "    \n",
    "    # Use list comprehension to filter out vowels\n",
    "    modified_sentence = ''.join([char for char in sentence if char not in vowels])\n",
    "    \n",
    "    return modified_sentence\n",
    "\n",
    "# Test the function\n",
    "test_sentence = \"A journey of a thousand miles begins with a single step.\"\n",
    "result = remove_vowels(test_sentence)\n",
    "print(f\"Original Sentence: {test_sentence}\")\n",
    "print(f\"Modified Sentence (no vowels): {result}\")\n"
   ]
  },
  {
   "cell_type": "markdown",
   "metadata": {},
   "source": [
    "# Homework 1"
   ]
  },
  {
   "cell_type": "code",
   "execution_count": null,
   "metadata": {},
   "outputs": [],
   "source": [
    "# Define the first and last name variables\n",
    "first_name = \"Nolan\"\n",
    "last_name = \"Yu\"\n",
    "\n",
    "# Create the greeting message using concatenation\n",
    "greeting_concat = \"Hello, \" + first_name + \" \" + last_name + \"!\"\n",
    "print(\"Using Concatenation:\")\n",
    "print(greeting_concat)\n",
    "\n",
    "# Create the greeting message using interpolation (f-strings)\n",
    "greeting_interpolation = f\"Hello, {first_name} {last_name}!\"\n",
    "print(\"\\nUsing Interpolation:\")\n",
    "print(greeting_interpolation)"
   ]
  },
  {
   "cell_type": "markdown",
   "metadata": {},
   "source": [
    "# Homework 2"
   ]
  },
  {
   "cell_type": "code",
   "execution_count": null,
   "metadata": {},
   "outputs": [],
   "source": [
    "def is_palindrome(input_string):\n",
    "    # Remove spaces and convert to lowercase for consistent comparison\n",
    "    cleaned_string = ''.join(input_string.split()).lower()\n",
    "    \n",
    "    # Check if the cleaned string is equal to its reverse\n",
    "    return cleaned_string == cleaned_string[::-1]\n",
    "\n",
    "# Test the function with some examples\n",
    "test_strings = [\"A man a plan a canal Panama\", \"Hello\", \"Racecar\", \"Not a palindrome\"]\n",
    "\n",
    "for test in test_strings:\n",
    "    result = is_palindrome(test)\n",
    "    print(f'\"{test}\" is a palindrome: {result}')\n"
   ]
  }
 ],
 "metadata": {
  "language_info": {
   "name": "python"
  }
 },
 "nbformat": 4,
 "nbformat_minor": 2
}
