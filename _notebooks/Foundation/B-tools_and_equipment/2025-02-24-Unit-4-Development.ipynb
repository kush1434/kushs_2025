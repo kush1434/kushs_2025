{
 "cells": [
  {
   "cell_type": "markdown",
   "metadata": {},
   "source": []
  },
  {
   "cell_type": "markdown",
   "metadata": {},
   "source": [
    "**Unit 4 Deployment Guide**\n",
    "\n",
    "### **Deployment Overview**\n",
    "\n",
    "- Deployed the **motor sports website** using **AWS, Ubuntu, Nginx, and Flask**.\n",
    "\n",
    "### **Key Steps to Deploy**\n",
    "\n",
    "1. **Setup Server**\n",
    "   ```bash\n",
    "   sudo apt update && sudo apt upgrade -y\n",
    "   sudo apt install python3 python3-pip nginx git -y\n"
   ]
  },
  {
   "cell_type": "markdown",
   "metadata": {
    "vscode": {
     "languageId": "raw"
    }
   },
   "source": [
    "**Deploy Flask Backend**"
   ]
  },
  {
   "cell_type": "raw",
   "metadata": {
    "vscode": {
     "languageId": "raw"
    }
   },
   "source": [
    "git clone https://github.com/your_repo/motor_sports_backend.git\n",
    "cd motor_sports_backend\n",
    "pip3 install -r requirements.txt\n",
    "python3 app.py"
   ]
  },
  {
   "cell_type": "markdown",
   "metadata": {},
   "source": [
    "**Configure Nginx**"
   ]
  },
  {
   "cell_type": "raw",
   "metadata": {
    "vscode": {
     "languageId": "raw"
    }
   },
   "source": [
    "sudo nano /etc/nginx/sites-available/motorsports\n",
    "sudo ln -s /etc/nginx/sites-available/motorsports /etc/nginx/sites-enabled/\n",
    "sudo systemctl restart nginx"
   ]
  },
  {
   "cell_type": "markdown",
   "metadata": {},
   "source": [
    "**Run Flask as a Service**"
   ]
  },
  {
   "cell_type": "raw",
   "metadata": {},
   "source": [
    "sudo systemctl daemon-reload\n",
    "sudo systemctl enable motorsports\n",
    "sudo systemctl start motorsports"
   ]
  },
  {
   "cell_type": "markdown",
   "metadata": {},
   "source": [
    "**Database Access**"
   ]
  },
  {
   "cell_type": "raw",
   "metadata": {
    "vscode": {
     "languageId": "raw"
    }
   },
   "source": [
    "cd to project -> instance -> volumes\n",
    "sqlite3 user_management.db\n",
    "SELECT * FROM [table];\n",
    ".quit"
   ]
  },
  {
   "cell_type": "markdown",
   "metadata": {},
   "source": [
    "**Server Updates**"
   ]
  },
  {
   "cell_type": "raw",
   "metadata": {
    "vscode": {
     "languageId": "raw"
    }
   },
   "source": [
    "cd to project directory\n",
    "docker-compose down\n",
    "git pull\n",
    "docker-compose build\n",
    "docker-compose up -d\n"
   ]
  },
  {
   "cell_type": "markdown",
   "metadata": {},
   "source": [
    "**Frontend Fixes**\n",
    "Fix inconsistent Sign In / Log In / Sign Up labels.\n",
    "Make /chatbot accessible in profile.\n",
    "Connect comments to posts.\n",
    "Update /profile page with real data.\n"
   ]
  }
 ],
 "metadata": {
  "language_info": {
   "name": "python"
  }
 },
 "nbformat": 4,
 "nbformat_minor": 2
}
