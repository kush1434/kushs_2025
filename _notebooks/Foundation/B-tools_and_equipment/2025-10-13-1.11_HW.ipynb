{
 "cells": [
  {
   "cell_type": "markdown",
   "id": "0b48d9df",
   "metadata": {},
   "source": []
  },
  {
   "cell_type": "markdown",
   "id": "8219c0d4",
   "metadata": {},
   "source": [
    "# Popcorn Hack 1"
   ]
  },
  {
   "cell_type": "code",
   "execution_count": null,
   "id": "7a2de73d",
   "metadata": {
    "vscode": {
     "languageId": "java"
    }
   },
   "outputs": [],
   "source": [
    "public class PowerLevelCalculator {\n",
    "    public static void main(String[] args) {\n",
    "        int level = 10;\n",
    "        int basePower = 100;\n",
    "        \n",
    "        double finalPower = basePower * Math.pow(1.2, level);\n",
    "        \n",
    "        System.out.println(\"Level: \" + level);\n",
    "        System.out.println(\"Base Power: \" + basePower);\n",
    "        System.out.println(\"Final Power: \" + finalPower);\n",
    "    }\n",
    "}"
   ]
  },
  {
   "cell_type": "markdown",
   "id": "a6e8b349",
   "metadata": {},
   "source": [
    "# Popcorn Hack 2"
   ]
  },
  {
   "cell_type": "code",
   "execution_count": null,
   "id": "ed51ee8a",
   "metadata": {
    "vscode": {
     "languageId": "java"
    }
   },
   "outputs": [],
   "source": [
    "public class LootDropSimulator {\n",
    "    public static void main(String[] args) {\n",
    "        int rarityRoll = (int)(Math.random() * 100) + 1;\n",
    "        String rarity;\n",
    "        int goldValue;\n",
    "        \n",
    "        if (rarityRoll <= 60) {\n",
    "            rarity = \"COMMON\";\n",
    "            goldValue = (int)(Math.random() * 21) + 10;\n",
    "        } else if (rarityRoll <= 85) {\n",
    "            rarity = \"RARE\";\n",
    "            goldValue = (int)(Math.random() * 40) + 31;\n",
    "        } else {\n",
    "            rarity = \"LEGENDARY\";\n",
    "            goldValue = (int)(Math.random() * 30) + 71;\n",
    "        }\n",
    "        \n",
    "        System.out.println(\"Loot Drop!\");\n",
    "        System.out.println(\"Rarity Roll: \" + rarityRoll);\n",
    "        System.out.println(\"You got: \" + rarity + \" item\");\n",
    "        System.out.println(\"Gold Value: \" + goldValue);\n",
    "    }\n",
    "}"
   ]
  },
  {
   "cell_type": "markdown",
   "id": "738d3aeb",
   "metadata": {},
   "source": [
    "# Homework Hack"
   ]
  },
  {
   "cell_type": "code",
   "execution_count": null,
   "id": "127913a9",
   "metadata": {
    "vscode": {
     "languageId": "java"
    }
   },
   "outputs": [],
   "source": [
    "public class GameStatsCalculator {\n",
    "    \n",
    "    // Part A: Health Difference Calculator\n",
    "    public static int healthDifference(int player1Health, int player2Health) {\n",
    "        return Math.abs(player1Health - player2Health);\n",
    "    }\n",
    "    \n",
    "    // Part B: Attack Damage Calculator\n",
    "    public static double calculateDamage(double baseDamage, double powerLevel) {\n",
    "        return baseDamage * Math.pow(1.5, powerLevel);\n",
    "    }\n",
    "    \n",
    "    // Part C: Distance Detector\n",
    "    public static double findDistance(int playerX, int playerY, int enemyX, int enemyY) {\n",
    "        return Math.sqrt(Math.pow(enemyX - playerX, 2) + Math.pow(enemyY - playerY, 2));\n",
    "    }\n",
    "    \n",
    "    // Part D: Random Loot Generator\n",
    "    public static int generateLoot(int minValue, int maxValue) {\n",
    "        return (int)(Math.random() * (maxValue - minValue + 1)) + minValue;\n",
    "    }\n",
    "    \n",
    "    // Test all methods\n",
    "    public static void main(String[] args) {\n",
    "        System.out.println(\"=== Game Stats Calculator ===\\n\");\n",
    "        \n",
    "        // Test Part A\n",
    "        System.out.println(\"Part A: Health Difference\");\n",
    "        System.out.println(\"healthDifference(75, 120) = \" + healthDifference(75, 120));\n",
    "        System.out.println(\"healthDifference(100, 80) = \" + healthDifference(100, 80));\n",
    "        System.out.println(\"healthDifference(50, 50) = \" + healthDifference(50, 50));\n",
    "        \n",
    "        // Test Part B\n",
    "        System.out.println(\"\\nPart B: Attack Damage\");\n",
    "        System.out.println(\"calculateDamage(10.0, 2) = \" + calculateDamage(10.0, 2));\n",
    "        System.out.println(\"calculateDamage(15.0, 3) = \" + calculateDamage(15.0, 3));\n",
    "        \n",
    "        // Test Part C\n",
    "        System.out.println(\"\\nPart C: Distance Detector\");\n",
    "        System.out.println(\"findDistance(0, 0, 3, 4) = \" + findDistance(0, 0, 3, 4));\n",
    "        System.out.println(\"findDistance(1, 1, 4, 5) = \" + findDistance(1, 1, 4, 5));\n",
    "        \n",
    "        // Test Part D\n",
    "        System.out.println(\"\\nPart D: Random Loot Generator\");\n",
    "        System.out.println(\"generateLoot(10, 50) = \" + generateLoot(10, 50));\n",
    "        System.out.println(\"generateLoot(100, 100) = \" + generateLoot(100, 100));\n",
    "        System.out.println(\"generateLoot(1, 6) = \" + generateLoot(1, 6));\n",
    "    }\n",
    "}"
   ]
  }
 ],
 "metadata": {
  "language_info": {
   "name": "python"
  }
 },
 "nbformat": 4,
 "nbformat_minor": 5
}
