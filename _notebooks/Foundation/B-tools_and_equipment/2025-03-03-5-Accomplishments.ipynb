{
 "cells": [
  {
   "cell_type": "markdown",
   "metadata": {},
   "source": []
  },
  {
   "cell_type": "markdown",
   "metadata": {},
   "source": [
    "# Listings Page Creation\n",
    "\n",
    "<br>\n",
    "\n",
    "![post]({{site.baseurl}}/Retrospective/listings_fronted.png)\n",
    "\n",
    "\n",
    "- Used JavaScript to dynamically generate listings on the page.\n",
    "- Each listing shows an image, name, type, mileage, and price.\n",
    "- Added a button to favorite listings and a text box for comments.\n",
    "- Improved layout and styling for a cleaner look.\n",
    "- Made sure everything loads properly and handles errors.\n",
    "\n",
    "<br>\n",
    "\n",
    "Frontend Commits:\n",
    "- Set up basic listings page with dynamic content.\n",
    "- Improved styling and layout.\n",
    "- Added favorites button and comment box.\n",
    "\n"
   ]
  },
  {
   "cell_type": "markdown",
   "metadata": {},
   "source": [
    "# Car Listings Fetching\n",
    "\n",
    "<br>\n",
    "\n",
    "![post]({{site.baseurl}}/images/Retrospective/listings_api.png)\n",
    "\n",
    "\n",
    "\n",
    "- Uses an API key stored securely in environment variables.\n",
    "- Fetches car data, including name, price, type, mileage, and image.\n",
    "- Converts images to base64 for easier handling.\n",
    "- Ensures proper error handling and formatting for missing data.\n",
    "- Returns a structured list of car details.\n",
    "\n",
    "Backend Commits:\n",
    "\n",
    "- Implemented API request for car listings.\n",
    "- Added error handling and data formatting.\n",
    "\n",
    "\n",
    "Listings Checklist: \n",
    "\n",
    "<br>\n",
    "\n",
    "![post]({{site.baseurl}}/images/Retrospective/listings_issue.png)"
   ]
  },
  {
   "cell_type": "markdown",
   "metadata": {},
   "source": [
    "# Favorites List Display\n",
    "\n",
    "<br>\n",
    "\n",
    "<img src=\"/Users/kushshah/nighthawk/kushs_2025/images/Retrospective/favorites_frontend.png\" alt=\"Listings Page Preview\" width=\"500\">\n",
    "\n",
    "<br>\n",
    "\n",
    "- Creates a new element for each favorite item.\n",
    "- Shows the item's name and user input.\n",
    "- Adds \"Update Comment\" and \"Delete\" buttons for interaction.\n",
    "- Ensures items are properly added to the favorites container.\n",
    "\n",
    "Frontend Changes:\n",
    "- Added dynamic rendering for favorites list.\n",
    "- Implemented update and delete buttons."
   ]
  },
  {
   "cell_type": "markdown",
   "metadata": {},
   "source": [
    "# Favorites API (CRUD Operations)\n",
    "\n",
    "<br>\n",
    "\n",
    "<img src=\"/Users/kushshah/nighthawk/kushs_2025/images/Retrospective/favorites_backend.png\" alt=\"Listings Page Preview\" width=\"500\">\n",
    "\n",
    "<br>\n",
    "\n",
    "- Includes a _CRUD class to manage favorite listings.\n",
    "- Supports:\n",
    "  - Adding a listing to favorites.\n",
    "  - Deleting a listing from favorites.\n",
    "  - Writing a comment about a listing.\n",
    "  - Updating an existing comment.\n",
    "\n",
    "Backend Changes:\n",
    "\n",
    "- Created API blueprint and CRUD class.\n",
    "- Implemented add/delete favorite functionality.\n",
    "- Added comment write/update feature.\n",
    "\n",
    "Listings Checklist: \n",
    "\n",
    "<br>\n",
    "\n",
    "<img src=\"/Users/kushshah/nighthawk/kushs_2025/images/Retrospective/favorites_issue.png\" alt=\"Listings Page Preview\" width=\"500\">\n"
   ]
  },
  {
   "cell_type": "markdown",
   "metadata": {},
   "source": [
    "# [Deployment Admin Blog](/Users/kushshah/nighthawk/kushs_2025/_notebooks/Foundation/B-tools_and_equipment/2025-02-24-Unit-4-Development-Blog.ipynb)\n",
    "\n",
    "\n",
    "\n",
    "Created a guide to help the team properly maintain and deploy our web application\n",
    "\n",
    "- Covers server setup, backend deployment, and monitoring.\n",
    "- Provides commands for checking logs, restarting services, and managing the database.\n",
    "- Includes steps for updating the application\n",
    "- Lists frontend and admin panel improvements for better usability.\n",
    "- Included database management and update process.\n"
   ]
  }
 ],
 "metadata": {
  "language_info": {
   "name": "python"
  }
 },
 "nbformat": 4,
 "nbformat_minor": 2
}
