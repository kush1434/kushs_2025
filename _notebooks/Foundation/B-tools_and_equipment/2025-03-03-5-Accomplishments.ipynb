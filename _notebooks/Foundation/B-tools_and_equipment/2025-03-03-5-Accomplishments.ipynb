{
 "cells": [
  {
   "cell_type": "markdown",
   "metadata": {},
   "source": []
  },
  {
   "cell_type": "markdown",
   "metadata": {},
   "source": [
    "# Listings Page Creation\n",
    "\n",
    "<br>\n",
    "\n",
    "![post]({{site.baseurl}}/images/Retrospective/listings_fronted.png)\n",
    "\n",
    "\n",
    "- Used JavaScript to dynamically generate listings on the page.\n",
    "- Each listing shows an image, name, type, mileage, and price.\n",
    "- Added a button to favorite listings and a text box for comments.\n",
    "- Improved layout and styling for a cleaner look.\n",
    "- Made sure everything loads properly and handles errors.\n",
    "- For each listing that I get from the external API, I have the name, a picture, the type, and the mileage of it.\n",
    "\n",
    "<br>\n",
    "\n",
    "Frontend Commits:\n",
    "- Set up basic listings page with dynamic content.\n",
    "- Improved styling and layout.\n",
    "- Added favorites button and comment box.\n",
    "\n"
   ]
  },
  {
   "cell_type": "markdown",
   "metadata": {},
   "source": [
    "# Car Listings Fetching\n",
    "\n",
    "<br>\n",
    "\n",
    "![post]({{site.baseurl}}/images/Retrospective/listings_api.png)\n",
    "\n",
    "\n",
    "\n",
    "- Uses an API key stored securely in environment variables.\n",
    "- Fetches car data, including name, price, type, mileage, and image.\n",
    "- Converts images to base64 for easier handling.\n",
    "- Ensures proper error handling and formatting for missing data.\n",
    "- Returns a structured list of car details.\n",
    "- For the backend, I stored the API key I was provided in the secret file and returned all the needed information in a dictionary\n",
    "\n",
    "Backend Commits:\n",
    "\n",
    "- Implemented API request for car listings.\n",
    "- Added error handling and data formatting.\n",
    "\n",
    "\n",
    "Listings Checklist: \n",
    "\n",
    "- Here is a portion of the checklist I made.\n",
    "\n",
    "<br>\n",
    "\n",
    "![post]({{site.baseurl}}/images/Retrospective/listings_issue.png)"
   ]
  },
  {
   "cell_type": "markdown",
   "metadata": {},
   "source": [
    "# Favorites List Display\n",
    "\n",
    "<br>\n",
    "\n",
    "![post]({{site.baseurl}}/images/Retrospective/favorites_frontend.png)\n",
    "\n",
    "\n",
    "<br>\n",
    "\n",
    "- Creates a new element for each favorite item.\n",
    "- Shows the item's name and user input.\n",
    "- Adds \"Update Comment\" and \"Delete\" buttons for interaction.\n",
    "- Ensures items are properly added to the favorites container.\n",
    "- I displayed an add listing, add comment, update comment, and a display listings button to the user.\n",
    "\n",
    "Frontend Changes:\n",
    "- Added dynamic rendering for favorites list.\n",
    "- Implemented update and delete buttons."
   ]
  },
  {
   "cell_type": "markdown",
   "metadata": {},
   "source": [
    "# Favorites API (CRUD Operations)\n",
    "\n",
    "<br>\n",
    "\n",
    "![post]({{site.baseurl}}/images/Retrospective/favorites_backend.png)\n",
    "\n",
    "\n",
    "<br>\n",
    "\n",
    "- Includes a _CRUD class to manage favorite listings.\n",
    "- Supports:\n",
    "  - Adding a listing to favorites.\n",
    "  - Deleting a listing from favorites.\n",
    "  - Writing a comment about a listing.\n",
    "  - Updating an existing comment.\n",
    "  - The backend for this utilized the crud requirements.\n",
    "\n",
    "Backend Changes:\n",
    "\n",
    "- Created API blueprint and CRUD class.\n",
    "- Implemented add/delete favorite functionality.\n",
    "- Added comment write/update feature.\n",
    "\n",
    "Listings Checklist: \n",
    "\n",
    "- Here is a burn-down list I made for the part of my work\n",
    "\n",
    "<br>\n",
    "\n",
    "![post]({{site.baseurl}}/images/Retrospective/favorites_issue.png)\n"
   ]
  },
  {
   "cell_type": "markdown",
   "metadata": {},
   "source": [
    "# [Deployment Admin Blog](https://kush1434.github.io/kushs_2025/2025/02/24/Unit-4-Development-Blog_IPYNB_2_.html)\n",
    "\n",
    "\n",
    "\n",
    "Created a guide to help the team properly maintain and deploy our web application\n",
    "\n",
    "- Covers server setup, backend deployment, and monitoring.\n",
    "- Provides commands for checking logs, restarting services, and managing the database.\n",
    "- Includes steps for updating the application\n",
    "- Lists frontend and admin panel improvements for better usability.\n",
    "- Included database management and update process.\n",
    "- I worked as the deployment admin for my group, and I made a blog summarizing the key commands needed to maintain our application on the AWS server. \n"
   ]
  }
 ],
 "metadata": {
  "language_info": {
   "name": "python"
  }
 },
 "nbformat": 4,
 "nbformat_minor": 2
}
