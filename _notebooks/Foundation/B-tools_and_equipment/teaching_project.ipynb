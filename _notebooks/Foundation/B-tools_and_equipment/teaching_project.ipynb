{
 "cells": [
  {
   "cell_type": "code",
   "execution_count": 1,
   "metadata": {},
   "outputs": [
    {
     "name": "stdout",
     "output_type": "stream",
     "text": [
      "Kush Let's start your adventure.\n",
      "You have 2 choices on the road.\n",
      "\n",
      "You walk into the cave. It's dark and creepy.\n",
      "\n",
      "You decided to leave the cave. Better safe than sorry!\n"
     ]
    }
   ],
   "source": [
    "def start_game():\n",
    "    print(\"Welcome to the Adventure Game!\")\n",
    "    name = input(\"What's your name? \")\n",
    "    print(name,\"Let's start your adventure.\")\n",
    "\n",
    "    print(\"You have 2 choices on the road.\")\n",
    "    choice = input(\"Do you go to the cave or the forest? (cave/forest): \").lower()\n",
    "\n",
    "    if choice == 'cave':\n",
    "        cave_adventure()\n",
    "    elif choice == 'forest':\n",
    "        forest_adventure()\n",
    "    else:\n",
    "        print(\"\\nYou didn't choose a valid option. Try again.\")\n",
    "        start_game()\n",
    "\n",
    "def cave_adventure():\n",
    "    print(\"\\nYou walk into the cave. It's dark and creepy.\")\n",
    "    choice = input(\"Do you explore deeper or leave? (explore/leave): \").lower()\n",
    "\n",
    "    if choice == 'explore':\n",
    "        print(\"\\nYou found a treasure chest! Congrats!\")\n",
    "    else:\n",
    "        print(\"\\nYou decided to leave the cave. Better safe than sorry!\")\n",
    "\n",
    "def forest_adventure():\n",
    "    print(\"\\nYou walk into the forest. It's peaceful here.\")\n",
    "    choice = input(\"Do you climb a tree or keep walking? (climb/walk): \").lower()\n",
    "\n",
    "    if choice == 'climb':\n",
    "        print(\"\\nYou climbed a tree and saw the sunset. Beautiful!\")\n",
    "    else:\n",
    "        print(\"\\nYou kept walking and found a quiet place to relax.\")\n",
    "\n",
    "start_game()\n"
   ]
  }
 ],
 "metadata": {
  "kernelspec": {
   "display_name": "venv",
   "language": "python",
   "name": "python3"
  },
  "language_info": {
   "codemirror_mode": {
    "name": "ipython",
    "version": 3
   },
   "file_extension": ".py",
   "mimetype": "text/x-python",
   "name": "python",
   "nbconvert_exporter": "python",
   "pygments_lexer": "ipython3",
   "version": "3.12.5"
  }
 },
 "nbformat": 4,
 "nbformat_minor": 2
}
