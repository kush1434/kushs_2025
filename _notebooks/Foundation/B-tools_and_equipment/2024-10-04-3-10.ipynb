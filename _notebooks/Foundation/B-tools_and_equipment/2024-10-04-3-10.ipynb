{
 "cells": [
  {
   "cell_type": "markdown",
   "metadata": {},
   "source": [
    "# Popcorn 1"
   ]
  },
  {
   "cell_type": "code",
   "execution_count": null,
   "metadata": {},
   "outputs": [],
   "source": [
    "numbers = []\n",
    "\n",
    "while True:\n",
    "    user_input = input(\"Enter a number (or 'done' to finish): \")\n",
    "    if user_input.lower() == 'done':\n",
    "        break\n",
    "    numbers.append(int(user_input))\n",
    "\n",
    "total_sum = sum(numbers)\n",
    "print(\"Sum of numbers:\", total_sum)\n",
    "\n",
    "if numbers:\n",
    "    numbers.pop()\n",
    "    print(\"Updated list after removing last element:\", numbers)"
   ]
  },
  {
   "cell_type": "markdown",
   "metadata": {},
   "source": [
    "# Popcorn 2"
   ]
  },
  {
   "cell_type": "code",
   "execution_count": null,
   "metadata": {},
   "outputs": [],
   "source": [
    "data_list = [5, 'banana', True, 8.99, 'apple']\n",
    "\n",
    "user_index = input(\"Enter an index to remove: \")\n",
    "\n",
    "if user_index.isdigit():\n",
    "    index = int(user_index)\n",
    "    if 0 <= index < len(data_list):\n",
    "        data_list.pop(index)\n",
    "        print(\"Updated list:\", data_list)\n",
    "    else:\n",
    "        print(\"Index is out of range.\")\n",
    "else:\n",
    "    print(\"Please enter a valid integer.\")"
   ]
  },
  {
   "cell_type": "markdown",
   "metadata": {},
   "source": [
    "# Popcorn 3"
   ]
  },
  {
   "cell_type": "code",
   "execution_count": null,
   "metadata": {},
   "outputs": [],
   "source": [
    "def collect_assignments():\n",
    "    assignments = []\n",
    "    print(\"Please enter your assignments (type 'exit' to finish):\")\n",
    "    \n",
    "    while True:\n",
    "        assignment = input(\"Assignment: \")\n",
    "        if assignment.lower() == 'exit':\n",
    "            break\n",
    "        assignments.append(assignment)\n",
    "    \n",
    "    return assignments\n",
    "\n",
    "def show_assignments(assignments):\n",
    "    total = len(assignments)\n",
    "    print(f\"You have {total} assignment(s) in your list:\")\n",
    "    for assignment in assignments:\n",
    "        print(f\"* {assignment}\")\n",
    "\n",
    "if __name__ == \"__main__\":\n",
    "    user_assignments = collect_assignments()\n",
    "    show_assignments(user_assignments)"
   ]
  },
  {
   "cell_type": "markdown",
   "metadata": {},
   "source": [
    "# Homework 1"
   ]
  },
  {
   "cell_type": "code",
   "execution_count": null,
   "metadata": {},
   "outputs": [],
   "source": [
    "numbers = [1, 2, 3, 4, 5, 6, 7, 8, 9, 10, \n",
    "           11, 12, 13, 14, 15, 16, 17, 18, 19, 20,\n",
    "           21, 22, 23, 24, 25, 26, 27, 28, 29, 30]\n",
    "\n",
    "sum_even = 0\n",
    "sum_odd = 0\n",
    "\n",
    "for number in numbers:\n",
    "    if number % 2 == 0:\n",
    "        sum_even += number\n",
    "    else:\n",
    "        sum_odd += number\n",
    "\n",
    "print(\"Sum of even numbers:\", sum_even)\n",
    "print(\"Sum of odd numbers:\", sum_odd)"
   ]
  },
  {
   "cell_type": "markdown",
   "metadata": {},
   "source": [
    "# Homework 2"
   ]
  },
  {
   "cell_type": "code",
   "execution_count": null,
   "metadata": {},
   "outputs": [],
   "source": [
    "hobbies = [\"Reading\", \"Hiking\", \"Cooking\", \"Gaming\", \"Photography\"]\n",
    "\n",
    "for hobby in hobbies:\n",
    "    print(\"I enjoy\", hobby)\n",
    "\n",
    "print(\"Total number of hobbies:\", len(hobbies))\n"
   ]
  },
  {
   "cell_type": "markdown",
   "metadata": {},
   "source": [
    "# Homework 3"
   ]
  },
  {
   "cell_type": "code",
   "execution_count": null,
   "metadata": {},
   "outputs": [],
   "source": [
    "questions = [\n",
    "    {\"question\": \"Do you like pizza?\", \"answer\": \"Yes\"},\n",
    "    {\"question\": \"Is the sky green?\", \"answer\": \"No\"}\n",
    "]\n",
    "\n",
    "for q in questions:\n",
    "    print(q[\"question\"], \"-\", q[\"answer\"])"
   ]
  }
 ],
 "metadata": {
  "kernelspec": {
   "display_name": "venv",
   "language": "python",
   "name": "python3"
  },
  "language_info": {
   "codemirror_mode": {
    "name": "ipython",
    "version": 3
   },
   "file_extension": ".py",
   "mimetype": "text/x-python",
   "name": "python",
   "nbconvert_exporter": "python",
   "pygments_lexer": "ipython3",
   "version": "3.12.5"
  }
 },
 "nbformat": 4,
 "nbformat_minor": 2
}
