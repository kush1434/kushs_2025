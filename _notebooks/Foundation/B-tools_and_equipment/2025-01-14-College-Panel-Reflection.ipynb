{
 "cells": [
  {
   "cell_type": "markdown",
   "metadata": {},
   "source": []
  },
  {
   "cell_type": "markdown",
   "metadata": {},
   "source": [
    "**Key Take-Aways**\n",
    "- Always make important connections\n",
    "- When explaining or making resume, really highlight main parts rather then boring details\n",
    "- Take initiative and don't be afraid to speak\n",
    "- Experience is always key\n",
    "- Learn to take your own initiative\n"
   ]
  },
  {
   "cell_type": "markdown",
   "metadata": {
    "vscode": {
     "languageId": "plaintext"
    }
   },
   "source": [
    "<br>\n",
    "\n",
    "**Personal Improvements**\n",
    "- Make good relations with teachers, mentors, and peers\n",
    "- Make resume bold on key parts and take out diminishing and unnessecary details\n",
    "- Be sure to put your opinions forward and don't be afraid to make changes without guidance \n",
    "- Always try to get experience no matter where it is\n",
    "- Plan things out more often instead of just going without knowing what is going to happen\n",
    "- When being in class I will be more attentive and make sure to collaborate with my peers in a way I absorb as much information and as many opinions as possible\n"
   ]
  }
 ],
 "metadata": {
  "language_info": {
   "name": "python"
  }
 },
 "nbformat": 4,
 "nbformat_minor": 2
}
