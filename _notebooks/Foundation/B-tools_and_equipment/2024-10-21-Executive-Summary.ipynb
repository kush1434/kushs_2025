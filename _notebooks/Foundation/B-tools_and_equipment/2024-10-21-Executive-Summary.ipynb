{
 "cells": [
  {
   "cell_type": "markdown",
   "metadata": {},
   "source": [
    "# Exective Summary\n",
    "Sumarization of Completed Work and Enhancements "
   ]
  },
  {
   "cell_type": "markdown",
   "metadata": {},
   "source": [
    "<hr>"
   ]
  },
  {
   "cell_type": "markdown",
   "metadata": {},
   "source": [
    "## What I learned from the teachings\n",
    "<br>\n",
    "- Having previous experience in Python, using Javascript, a new language, was a huge opportunity for me\n",
    "\n",
    "- Although the logic point of learning a coding language is pretty similar to any other, many aspects like methods, functions, and most of all inputs are not the same\n",
    "\n",
    "- Another thing I learned was that each coding language has it's own purpose \n",
    "\n",
    "- Debugging was also a crucial part of the process of learning\n",
    "\n",
    "- When doing the homeworks, I found many errors in my Javascript and learning the skill of debugging was a huge contributer in my learning\n"
   ]
  },
  {
   "cell_type": "markdown",
   "metadata": {},
   "source": [
    "<a href = \"{{site.baseurl}}/accomplishment\" >My Accomplishments</a>"
   ]
  },
  {
   "cell_type": "markdown",
   "metadata": {},
   "source": [
    "## What my team and I can improve on\n",
    "<br>\n",
    "\n",
    "- One major thing I can improve on is my reliability on ChatGPT. Although I am not super comfortable with programming, I should learn how to do my own research and find the answers on my own.\n",
    "\n",
    "- Communication between my peers was also rough due to all of us having minimal experience in this space. One way to improve this is by being organized.\n",
    "\n",
    "- One of the most important errors we made was not making sure what we were presenting was a 100% true. We had a flaw in our presentation which caused confusion in the audience. This can be improved by fact checking all of our work.\n"
   ]
  }
 ],
 "metadata": {
  "language_info": {
   "name": "python"
  }
 },
 "nbformat": 4,
 "nbformat_minor": 2
}
