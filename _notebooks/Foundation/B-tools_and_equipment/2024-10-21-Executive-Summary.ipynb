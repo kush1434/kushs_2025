{
 "cells": [
  {
   "cell_type": "markdown",
   "metadata": {},
   "source": [
    "# Exective Summary\n",
    "Sumarization of Completed Work and Enhancements "
   ]
  },
  {
   "cell_type": "markdown",
   "metadata": {},
   "source": [
    "<hr>"
   ]
  },
  {
   "cell_type": "markdown",
   "metadata": {},
   "source": [
    "## What I learned from the teachings\n",
    "- Having previous experience in Python, using Javascript, a new language, was a huge opportunity for me\n",
    "\n",
    "- Although the logic point of learning a coding language is pretty similar to any other, many aspects like methods, functions, and most of all inputs are not the same\n",
    "- Another thing I learned was that each coding language has it's own purpose \n",
    "- Debugging was also a crucial part of the process of learning\n",
    "- When doing the homeworks, I found many errors in my Javascript and learning the skill of debugging was a huge contributer in my learning\n"
   ]
  },
  {
   "cell_type": "markdown",
   "metadata": {},
   "source": [
    "<a href = \"{{site.baseurl}}/accomplishment\" >My Accomplishments</a>"
   ]
  }
 ],
 "metadata": {
  "language_info": {
   "name": "python"
  }
 },
 "nbformat": 4,
 "nbformat_minor": 2
}
