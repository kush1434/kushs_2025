{
 "cells": [
  {
   "cell_type": "markdown",
   "id": "d2c3250a",
   "metadata": {},
   "source": []
  },
  {
   "cell_type": "markdown",
   "id": "ab7f63a6",
   "metadata": {},
   "source": [
    "# Homework Hack 1"
   ]
  },
  {
   "cell_type": "code",
   "execution_count": null,
   "id": "35370482",
   "metadata": {
    "vscode": {
     "languageId": "java"
    }
   },
   "outputs": [],
   "source": [
    "public class ObjectCreation {\n",
    "    public static void main(String[] args) {\n",
    "        // 1. Create two Car objects using 'new'\n",
    "        Car car1 = new Car(\"Tesla\", 2024);\n",
    "        Car car2 = new Car(\"Honda\", 2023);\n",
    "\n",
    "        // 2. Print each car's info\n",
    "        System.out.println(\"=== Homework Hack #1 Output ===\");\n",
    "        System.out.println(car1);\n",
    "        System.out.println(car2);\n",
    "        System.out.println();\n",
    "    }\n",
    "}\n",
    "\n",
    "class Car {\n",
    "    // 1. Declare variables: brand, year\n",
    "    String brand;\n",
    "    int year;\n",
    "\n",
    "    // 2. Create a constructor to set those variables\n",
    "    public Car(String brand, int year) {\n",
    "        this.brand = brand;\n",
    "        this.year = year;\n",
    "    }\n",
    "\n",
    "    // 3. Add a method or toString() to display car info\n",
    "    @Override\n",
    "    public String toString() {\n",
    "        return \"Car: \" + brand + \" (\" + year + \")\";\n",
    "    }\n",
    "}"
   ]
  },
  {
   "cell_type": "markdown",
   "id": "1bfdda63",
   "metadata": {},
   "source": [
    "# Homework Hack 2"
   ]
  },
  {
   "cell_type": "code",
   "execution_count": null,
   "id": "0e39aeed",
   "metadata": {
    "vscode": {
     "languageId": "java"
    }
   },
   "outputs": [],
   "source": [
    "class HeapVsStack {\n",
    "    public static void main(String[] args) {\n",
    "        System.out.println(\"=== Homework Hack #2 Output ===\");\n",
    "        \n",
    "        // 1. Create a primitive variable (int pages)\n",
    "        int pages = 300;\n",
    "        \n",
    "        // 2. Create another primitive variable that copies it\n",
    "        int pagesCopy = pages;\n",
    "        \n",
    "        // 3. Create a Book object\n",
    "        Book b1 = new Book(\"Java Basics\");\n",
    "        \n",
    "        // 4. Create another Book reference\n",
    "        Book b2 = b1;\n",
    "        \n",
    "        System.out.println(\"--- BEFORE CHANGES ---\");\n",
    "        System.out.println(\"pages: \" + pages);\n",
    "        System.out.println(\"pagesCopy: \" + pagesCopy);\n",
    "        System.out.println(\"b1: \" + b1);\n",
    "        System.out.println(\"b2: \" + b2);\n",
    "        \n",
    "        // 5. Change the original primitive and the Book title\n",
    "        pages = 500;\n",
    "        b1.title = \"Advanced Java\";\n",
    "        \n",
    "        System.out.println(\"\\n--- AFTER CHANGES ---\");\n",
    "        // 6. Print both sets of values to compare behavior\n",
    "        System.out.println(\"pages: \" + pages + \" (changed from 300 to 500)\");\n",
    "        System.out.println(\"pagesCopy: \" + pagesCopy + \" (unchanged - primitives are independent)\");\n",
    "        System.out.println(\"b1: \" + b1 + \" (changed)\");\n",
    "        System.out.println(\"b2: \" + b2 + \" (ALSO changed - both reference same object!)\");\n",
    "        \n",
    "        System.out.println(\"\\n--- KEY INSIGHT ---\");\n",
    "        System.out.println(\"Primitives (stack): Copying creates independent values\");\n",
    "        System.out.println(\"Objects (heap): Copying creates another reference to SAME object\");\n",
    "    }\n",
    "}\n",
    "\n",
    "class Book {\n",
    "    // 1. Declare variable: String title\n",
    "    String title;\n",
    "    \n",
    "    // 2. Create a constructor to set the title\n",
    "    public Book(String title) {\n",
    "        this.title = title;\n",
    "    }\n",
    "    \n",
    "    // 3. Create a toString() to show the title\n",
    "    @Override\n",
    "    public String toString() {\n",
    "        return \"Book: \\\"\" + title + \"\\\"\";\n",
    "    }\n",
    "}"
   ]
  }
 ],
 "metadata": {
  "language_info": {
   "name": "python"
  }
 },
 "nbformat": 4,
 "nbformat_minor": 5
}
