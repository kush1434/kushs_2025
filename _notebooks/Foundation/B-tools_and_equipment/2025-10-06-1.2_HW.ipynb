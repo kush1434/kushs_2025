{
 "cells": [
  {
   "cell_type": "markdown",
   "id": "bc838938",
   "metadata": {},
   "source": []
  },
  {
   "cell_type": "code",
   "execution_count": null,
   "id": "53743827",
   "metadata": {
    "vscode": {
     "languageId": "java"
    }
   },
   "outputs": [],
   "source": [
    "import java.util.Scanner;\n",
    "\n",
    "public class GradeCalculator {\n",
    "    public static void main(String[] args) {\n",
    "        // Variables to store student information and class details\n",
    "        String studentName = \"Alex\"; // Student's name\n",
    "        String className = \"Math 101\"; // Class name\n",
    "\n",
    "        // Scanner for input\n",
    "        Scanner scanner = new Scanner(System.in);\n",
    "\n",
    "        // Get the three test scores from the user\n",
    "        System.out.print(\"Enter the score for Test 1: \" );\n",
    "        int testScore1 = scanner.nextInt();\n",
    "\n",
    "        System.out.print(\"Enter the score for Test 2: \" );\n",
    "        int testScore2 = scanner.nextInt();\n",
    "\n",
    "        System.out.print(\"Enter the score for Test 3: \" );\n",
    "        int testScore3 = scanner.nextInt();\n",
    "\n",
    "        // Final constant values that shouldn't change\n",
    "        final int MAX_SCORE = 100;\n",
    "\n",
    "        // Calculating the average score\n",
    "        double averageScore = (testScore1 + testScore2 + testScore3) / 3.0;\n",
    "\n",
    "        // Determine the letter grade based on the average score\n",
    "        char grade;\n",
    "        if (averageScore >= 90) {\n",
    "            grade = 'A';\n",
    "        } else if (averageScore >= 80) {\n",
    "            grade = 'B';\n",
    "        } else if (averageScore >= 70) {\n",
    "            grade = 'C';\n",
    "        } else if (averageScore >= 60) {\n",
    "            grade = 'D';\n",
    "        } else {\n",
    "            grade = 'F';\n",
    "        }\n",
    "\n",
    "        // Display the results\n",
    "        System.out.println(\"\\nStudent: \" + studentName);\n",
    "        System.out.println(\"Class: \" + className);\n",
    "        System.out.println(\"Average Score: \" + String.format(\"%.2f\", averageScore));\n",
    "        System.out.println(\"Letter Grade: \" + grade);\n",
    "        \n",
    "        // Close the scanner\n",
    "        scanner.close();\n",
    "    }\n",
    "}"
   ]
  }
 ],
 "metadata": {
  "language_info": {
   "name": "python"
  }
 },
 "nbformat": 4,
 "nbformat_minor": 5
}
