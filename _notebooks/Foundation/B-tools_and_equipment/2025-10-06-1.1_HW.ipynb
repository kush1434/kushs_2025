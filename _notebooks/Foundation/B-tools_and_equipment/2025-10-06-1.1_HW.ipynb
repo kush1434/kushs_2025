{
 "cells": [
  {
   "cell_type": "markdown",
   "id": "14fcb5ba",
   "metadata": {},
   "source": []
  },
  {
   "cell_type": "markdown",
   "id": "068d2780",
   "metadata": {},
   "source": [
    "# Algorithm: Making a Pizza from Scratch\n",
    "# Steps:\n",
    "1. Get the ingredients: flour, yeast, salt, water, oil, tomato sauce, cheese, etc.\n",
    "2. Mix the yeast with warm water and let it activate for 10 minutes.\n",
    "3. Combine flour, salt, and the yeast mixture into a dough.4. Knead the dough for 10 minutes until smooth.\n",
    "5. Let the dough rise in a warm place for an hour.\n",
    "6. Preheat the oven to 475°F (245°C).\n",
    "7. Roll out the dough to your desired thickness.\n",
    "8. Add tomato sauce, cheese, and toppings, then bake for 12-15 minutes.\n",
    "9. Serve and enjoy your pizza!"
   ]
  },
  {
   "cell_type": "markdown",
   "id": "0a9782df",
   "metadata": {},
   "source": [
    "# Corrected Algorithm: Send an Email\n",
    "# Steps:\n",
    "1. Open the email application.\n",
    "2. Log into your account.\n",
    "3. Write the subject line.\n",
    "4. Enter recipient's email address.\n",
    "5. Type the message.\n",
    "6. Click \"Send.\""
   ]
  },
  {
   "cell_type": "markdown",
   "id": "cb256a8c",
   "metadata": {},
   "source": [
    "# Algorithm: Grade Calculator\n",
    "# Convert this into Python code:"
   ]
  },
  {
   "cell_type": "code",
   "execution_count": null,
   "id": "ae112012",
   "metadata": {},
   "outputs": [],
   "source": [
    "\n",
    "def calculate_grade(score1, score2, score3):\n",
    "    \"\"\"\n",
    "    Calculate letter grade from three test scores.\n",
    "    \n",
    "    Args:\n",
    "        score1, score2, score3: Test scores (integers)\n",
    "        \n",
    "    Returns:\n",
    "        grade: Letter grade (string)\n",
    "    \"\"\"\n",
    "    \n",
    "    # Step 1: Add the three scores together\n",
    "    total_score = score1 + score2 + score3\n",
    "    \n",
    "    # Step 2: Calculate the average\n",
    "    average = total_score / 3\n",
    "    \n",
    "    # Step 3: Determine the letter grade using if-elif-else\n",
    "    if average >= 90:\n",
    "        grade = 'A'\n",
    "    elif average >= 80:\n",
    "        grade = 'B'\n",
    "    elif average >= 70:\n",
    "        grade = 'C'\n",
    "    elif average >= 60:\n",
    "        grade = 'D'\n",
    "    else:\n",
    "        grade = 'F'\n",
    "    \n",
    "    # Step 4: Return the grade\n",
    "    return grade\n",
    "\n",
    "# Test the function:\n",
    "print(\"Test 1:\", calculate_grade(95, 92, 88))  # Should be 'A'\n",
    "print(\"Test 2:\", calculate_grade(85, 80, 82))  # Should be 'B'\n",
    "print(\"Test 3:\", calculate_grade(75, 70, 72))  # Should be 'C'\n",
    "print(\"Test 4:\", calculate_grade(65, 60, 62))  # Should be 'D'\n",
    "print(\"Test 5:\", calculate_grade(55, 50, 51))  # Should be 'F'"
   ]
  }
 ],
 "metadata": {
  "language_info": {
   "name": "python"
  }
 },
 "nbformat": 4,
 "nbformat_minor": 5
}
