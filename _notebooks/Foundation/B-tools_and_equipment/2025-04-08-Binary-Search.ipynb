{
 "cells": [
  {
   "cell_type": "markdown",
   "id": "4d7c95e1",
   "metadata": {},
   "source": []
  },
  {
   "cell_type": "markdown",
   "id": "9245f990",
   "metadata": {},
   "source": []
  },
  {
   "cell_type": "markdown",
   "id": "ada3ed29",
   "metadata": {},
   "source": [
    "1.\t42 in decimal:\n",
    "Binary: 101010, Place values: 32 + 8 + 2 = 42\n",
    "<br>\n",
    "\n",
    "2.\t19 in decimal:\n",
    "Binary: 10011, Place values: 16 + 2 + 1 = 19\n",
    "<br>\n",
    "\n",
    "3.\t100 in decimal:\n",
    "Binary: 1100100, Place values: 64 + 32 + 4 = 100"
   ]
  },
  {
   "cell_type": "markdown",
   "id": "1091fe76",
   "metadata": {},
   "source": [
    "1.\t101010 in binary:\n",
    "Binary: 101010, Place values: 1 \\times 2^5 + 0 \\times 2^4 + 1 \\times 2^3 + 0 \\times 2^2 + 1 \\times 2^1 + 0 \\times 2^0 = 32 + 8 + 2 = 42\n",
    "<br>\n",
    "\n",
    "2.\t10011 in binary:\n",
    "Binary: 10011, Place values: 1 \\times 2^4 + 0 \\times 2^3 + 0 \\times 2^2 + 1 \\times 2^1 + 1 \\times 2^0 = 16 + 2 + 1 = 19\n",
    "<br>\n",
    "\n",
    "3.\t110011 in binary:\n",
    "Binary: 110011, Place values: 1 \\times 2^5 + 1 \\times 2^4 + 0 \\times 2^3 + 0 \\times 2^2 + 1 \\times 2^1 + 1 \\times 2^0 = 32 + 16 + 2 + 1 = 51"
   ]
  },
  {
   "cell_type": "markdown",
   "id": "c5d4f16a",
   "metadata": {},
   "source": [
    "1. Search for 18\n",
    "\t•\tStart: Middle is 15, search right. Middle is 24, search left. Found 18.\n",
    "Comparisons: 3, Found: Yes.\n",
    "\n",
    "<br>\n",
    "\n",
    "2. Search for 33\n",
    "\t•\tStart: Middle is 15, search right. Middle is 24, search right. Middle is 30, search right. Found 33.\n",
    "Comparisons: 4, Found: Yes.\n",
    "\n",
    "<br>\n",
    "\n",
    "3. Search for 5\n",
    "\t•\tStart: Middle is 15, search left. Middle is 9, search left. Middle is 6, search left. No elements left.\n",
    "Comparisons: 4, Found: No."
   ]
  },
  {
   "cell_type": "markdown",
   "id": "3013abdf",
   "metadata": {},
   "source": [
    "1. Search for “mango”\n",
    "\t•\tMiddle: “fig”, “mango” > “fig”, search right.\n",
    "\t•\tMiddle: “kiwi”, “mango” > “kiwi”, search right. Found “mango”.\n",
    "Comparisons: 3, Found: Yes.\n",
    "\n",
    "<br>\n",
    "\n",
    "2. Search for “carrot”\n",
    "\t•\tMiddle: “fig”, “carrot” < “fig”, search left.\n",
    "\t•\tMiddle: “banana”, “carrot” > “banana”, search right. Found “carrot”.\n",
    "Comparisons: 3, Found: Yes.\n",
    "\n",
    "<br>\n",
    "\n",
    "3. Search for “lemon”\n",
    "\t•\tMiddle: “fig”, “lemon” > “fig”, search right.\n",
    "\t•\tMiddle: “kiwi”, “lemon” > “kiwi”, search right. No elements left.\n",
    "Comparisons: 4, Found: No."
   ]
  },
  {
   "cell_type": "markdown",
   "id": "cdbcb365",
   "metadata": {},
   "source": [
    "1.\tBinary search is more efficient for large data because it repeatedly divides the search space in half, reducing the number of comparisons, whereas linear search checks each element one by one.\n",
    "\n",
    "<br>\n",
    "\n",
    "2.\tIf the list isn’t sorted, binary search can’t work correctly because it assumes the data is in order to divide the search space logically.\n",
    "\n",
    "<br>\n",
    "\n",
    "3.\tBinary search could be used in a video game leaderboard if the scores are sorted, but not in a search bar for unstructured queries, as it requires a sorted list to function."
   ]
  }
 ],
 "metadata": {
  "language_info": {
   "name": "python"
  }
 },
 "nbformat": 4,
 "nbformat_minor": 5
}
