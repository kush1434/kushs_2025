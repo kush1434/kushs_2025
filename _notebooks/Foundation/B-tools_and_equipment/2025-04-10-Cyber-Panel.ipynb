{
 "cells": [
  {
   "cell_type": "markdown",
   "id": "77743a40",
   "metadata": {},
   "source": []
  },
  {
   "cell_type": "markdown",
   "id": "5816bd07",
   "metadata": {},
   "source": [
    "<html lang=\"en\">\n",
    "<head>\n",
    "<meta charset=\"UTF-8\">\n",
    "<meta name=\"viewport\" content=\"width=device-width, initial-scale=1.0\">\n",
    "<title>What I Gained from the Cybersecurity Panel</title>\n",
    "</head>\n",
    "<body>\n",
    "<article>\n",
    "<h1>What I Gained from the Cybersecurity Panel</h1>\n",
    "\n",
    "<section>\n",
    "<h2>My Experience</h2>\n",
    "<p>I attended a cybersecurity panel where three experts shared their insights and experiences into the field. Before attending, I understood that cybersecurity was important, but I didn’t understand the impact of the roles and how everyone's work fits together.</p>\n",
    "<p>The panelists David Tomasz, Victor Nzeata, and Tricia Mercer came from different backgrounds, but their stories all demonstrated how essential it is to be aware and responsible in the tech world.</p>\n",
    "</section>\n",
    "\n",
    "<section>\n",
    "<h2>David Tomasz – Ethical Hacker</h2>\n",
    "<p>David works in criminal identification and has earned a reputation as one of the top ethical hackers.</p>\n",
    "<p>He explained that he never initially planned to go into computers or cybersecurity, but after sticking with it, he found his passion. Now, he uses his hacking expertise to help track down cybercriminals and safeguard people from online dangers.</p>\n",
    "<h3>What I learned:</h3>\n",
    "<ul>\n",
    "    <li>Sometimes discovering your passion requires persistence even if you don’t initially love something.</li>\n",
    "    <li>Hacking doesn’t have to be harmful—it can be a tool for good and help protect others.</li>\n",
    "</ul>\n",
    "</section>\n",
    "\n",
    "<section>\n",
    "<h2>Victor Nzeata – Data Security Specialist</h2>\n",
    "<p>Victor is focused on preventing hackers from accessing company data.</p>\n",
    "<p>He developed a PowerShell script to search for old, forgotten data and remove it, preventing it from being exploited.</p>\n",
    "<p>Victor explained that outdated data can pose a significant threat if left unchecked.</p>\n",
    "<h3>What I learned:</h3>\n",
    "<ul>\n",
    "    <li>Old, unused data can still be a security risk—even if you think it’s no longer relevant.</li>\n",
    "    <li>Small scripts or tools can have a powerful impact in securing systems.</li>\n",
    "</ul>\n",
    "</section>\n",
    "\n",
    "<section>\n",
    "<h2>Tricia Mercer – Internal Threat Tracker</h2>\n",
    "<p>Tricia recounted a situation where an employee on leave still had access to company data.</p>\n",
    "<p>After investigating, she uncovered that the employee had been stealing and selling company information to competitors.</p>\n",
    "<p>Tricia was inspired to pursue a career in cybersecurity after reading a book about tracking spies and hearing her mom say, “computers are the future.”</p>\n",
    "<h3>What I learned:</h3>\n",
    "<ul>\n",
    "    <li>Being an employee doesn’t automatically make someone trustworthy.</li>\n",
    "    <li>It’s crucial to remain curious and report anything that seems suspicious.</li>\n",
    "    <li>Real life cyber threats can often feel like something out of a spy novel—but they’re real and serious.</li>\n",
    "</ul>\n",
    "</section>\n",
    "\n",
    "<section>\n",
    "<h2>My Reflections</h2>\n",
    "<p>This panel really shifted my perspective on cybersecurity. Previously, I thought it was all about writing code and safeguarding passwords. Now, I see it as much more:</p>\n",
    "<ul>\n",
    "    <li>It’s about being curious and attentive.</li>\n",
    "    <li>Recognizing that anyone can be a potential threat.</li>\n",
    "    <li>Using your expertise to protect and assist others.</li>\n",
    "    <li>Understanding that small details—like forgotten files or one person’s access—can create significant risks.</li>\n",
    "</ul>\n",
    "</section>\n",
    "\n",
    "<section>\n",
    "<h2>Moving Forward</h2>\n",
    "<p>After listening to David, Victor, and Tricia, I’m now more motivated to explore cybersecurity further. I aim to:</p>\n",
    "<ul>\n",
    "    <li>Dive deeper into ethical hacking practices.</li>\n",
    "    <li>Experiment with writing my own scripts to solve smaller problems.</li>\n",
    "    <li>Be more mindful of what I share and store online.</li>\n",
    "</ul>\n",
    "<p>This panel showed me that cybersecurity isn’t just a profession, it’s a responsibility.</p>\n",
    "</section>\n",
    "</article>\n",
    "</body>\n",
    "</html>"
   ]
  },
  {
   "cell_type": "markdown",
   "id": "abd2e59a",
   "metadata": {},
   "source": [
    "![post]({{site.baseurl}}/images/cyber_1.jpeg)"
   ]
  },
  {
   "cell_type": "markdown",
   "id": "faa1cddc",
   "metadata": {},
   "source": [
    "![post]({{site.baseurl}}/images/cyber_2.jpeg)"
   ]
  }
 ],
 "metadata": {
  "language_info": {
   "name": "python"
  }
 },
 "nbformat": 4,
 "nbformat_minor": 5
}
