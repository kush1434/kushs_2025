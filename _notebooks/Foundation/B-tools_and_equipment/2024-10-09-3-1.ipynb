{
 "cells": [
  {
   "cell_type": "markdown",
   "metadata": {},
   "source": [
    "# Popcorn Hack 1"
   ]
  },
  {
   "cell_type": "code",
   "execution_count": null,
   "metadata": {
    "vscode": {
     "languageId": "javascript"
    }
   },
   "outputs": [],
   "source": [
    "let dict = {\n",
    "    \"Key 1\": 'Banana',\n",
    "    \"Key 2\": 'Apple'\n",
    "}"
   ]
  },
  {
   "cell_type": "markdown",
   "metadata": {},
   "source": [
    "# Popcorn Hack 2"
   ]
  },
  {
   "cell_type": "code",
   "execution_count": null,
   "metadata": {},
   "outputs": [],
   "source": [
    "import random\n",
    "\n",
    "def math_challenge():\n",
    "    points = 0\n",
    "    operators = ['+', '-', '*']\n",
    "\n",
    "    print(\"Math Master Challenge!\")\n",
    "    print(\"Test your math skills! Type 'exit' anytime to stop playing.\\n\")\n",
    "\n",
    "    while True:\n",
    "        # Randomly select two numbers and an operator\n",
    "        number1 = random.randint(1, 10)\n",
    "        number2 = random.randint(1, 10)\n",
    "        operator = random.choice(operators)\n",
    "\n",
    "        # Compute the correct result based on the selected operator\n",
    "        if operator == '+':\n",
    "            correct_answer = number1 + number2\n",
    "        elif operator == '-':\n",
    "            correct_answer = number1 - number2\n",
    "        else:\n",
    "            correct_answer = number1 * number2\n",
    "\n",
    "        # Display the problem to the player\n",
    "        print(f\"Solve: {number1} {operator} {number2}\")\n",
    "        player_input = input(\"Your answer (or type 'exit' to end the game): \")\n",
    "\n",
    "        # Exit the game if the player chooses to quit\n",
    "        if player_input.lower() == 'exit':\n",
    "            break\n",
    "\n",
    "        # Validate and compare the player's input\n",
    "        try:\n",
    "            player_guess = int(player_input)\n",
    "            if player_guess == correct_answer:\n",
    "                print(\"Nice! You're right.\")\n",
    "                points += 1\n",
    "            else:\n",
    "                print(f\"Wrong! The right answer was {correct_answer}.\")\n",
    "        except ValueError:\n",
    "            print(\"Please enter a valid number or type 'exit' to leave.\")\n",
    "\n",
    "    print(f\"Game Over! Your total points: {points}\")\n",
    "\n",
    "# Start the game\n",
    "math_challenge()\n"
   ]
  },
  {
   "cell_type": "markdown",
   "metadata": {},
   "source": [
    "# Popcorn 3"
   ]
  },
  {
   "cell_type": "code",
   "execution_count": 2,
   "metadata": {
    "vscode": {
     "languageId": "javascript"
    }
   },
   "outputs": [
    {
     "data": {
      "application/javascript": "let movie = 'The Elf'\nlet sport = 'Basketball'\nlet name = 'Scruffy'\n",
      "text/plain": [
       "<IPython.core.display.Javascript object>"
      ]
     },
     "metadata": {},
     "output_type": "display_data"
    }
   ],
   "source": [
    "%%js\n",
    "let movie = 'The Elf'\n",
    "let sport = 'Basketball'\n",
    "let name = 'Scruffy'"
   ]
  },
  {
   "cell_type": "markdown",
   "metadata": {},
   "source": [
    "# Popcorn 4"
   ]
  },
  {
   "cell_type": "code",
   "execution_count": null,
   "metadata": {
    "vscode": {
     "languageId": "javascript"
    }
   },
   "outputs": [],
   "source": [
    "%%js\n",
    "\n",
    "\n",
    "// Define string\n",
    "let phrase = \"Mihir's fit is tough!\";\n",
    "\n",
    "\n",
    "// Extraction\n",
    "let partOne = phrase.slice(0, 4);\n",
    "let partTwo = phrase.slice(-18, -12);\n",
    "let remainder = phrase.slice(20);"
   ]
  },
  {
   "cell_type": "code",
   "execution_count": null,
   "metadata": {},
   "outputs": [],
   "source": [
    "def remove_vowels(input_str):\n",
    "    vowels = \"aeiouAEIOU\"\n",
    "    result = ''.join([char for char in input_str if char not in vowels])\n",
    "    return result\n",
    "\n",
    "sentence = \"I enjoy learning Python!\"\n",
    "print(remove_vowels(sentence))\n"
   ]
  },
  {
   "cell_type": "code",
   "execution_count": null,
   "metadata": {},
   "outputs": [],
   "source": [
    "def reverse_words(input_str):\n",
    "    words = input_str.split()\n",
    "    reversed_words = \" \".join(words[::-1])\n",
    "    return reversed_words\n",
    "\n",
    "sentence = \"I love coding!\"\n",
    "print(reverse_words(sentence))"
   ]
  },
  {
   "cell_type": "markdown",
   "metadata": {},
   "source": [
    "# Homework "
   ]
  },
  {
   "cell_type": "code",
   "execution_count": null,
   "metadata": {},
   "outputs": [],
   "source": [
    "def add_item(shopping_list):\n",
    "    item = input(\"Enter the item name: \")\n",
    "    price = float(input(f\"Enter the price of {item}: \"))\n",
    "    shopping_list[item] = price\n",
    "    print(f\"{item} has been added with a price of ${price:.2f}.\")\n",
    "\n",
    "# Function to calculate the total cost of the shopping list\n",
    "def calculate_total(shopping_list):\n",
    "    total = sum(shopping_list.values())\n",
    "    return total\n",
    "\n",
    "# Main function to run the shopping list calculator\n",
    "def main():\n",
    "    shopping_list = {}\n",
    "    while True:\n",
    "        print(\"\\nShopping List Calculator\")\n",
    "        print(\"1. Add item\")\n",
    "        print(\"2. Calculate total cost\")\n",
    "        print(\"3. Show shopping list\")\n",
    "        print(\"4. Exit\")\n",
    "        \n",
    "        choice = input(\"Choose an option (1-4): \")\n",
    "        \n",
    "        if choice == '1':\n",
    "            add_item(shopping_list)\n",
    "        elif choice == '2':\n",
    "            total_cost = calculate_total(shopping_list)\n",
    "            print(f\"\\nTotal cost: ${total_cost:.2f}\")\n",
    "        elif choice == '3':\n",
    "            print(\"\\nShopping List:\")\n",
    "            for item, price in shopping_list.items():\n",
    "                print(f\"{item}: ${price:.2f}\")\n",
    "        elif choice == '4':\n",
    "            print(\"Exiting the program. Goodbye!\")\n",
    "            break\n",
    "        else:\n",
    "            print(\"Invalid choice. Please select a valid option.\")\n",
    "\n",
    "# Run the shopping list calculator\n",
    "if __name__ == \"__main__\":\n",
    "    main()\n"
   ]
  }
 ],
 "metadata": {
  "kernelspec": {
   "display_name": "venv",
   "language": "python",
   "name": "python3"
  },
  "language_info": {
   "codemirror_mode": {
    "name": "ipython",
    "version": 3
   },
   "file_extension": ".py",
   "mimetype": "text/x-python",
   "name": "python",
   "nbconvert_exporter": "python",
   "pygments_lexer": "ipython3",
   "version": "3.12.5"
  }
 },
 "nbformat": 4,
 "nbformat_minor": 2
}
