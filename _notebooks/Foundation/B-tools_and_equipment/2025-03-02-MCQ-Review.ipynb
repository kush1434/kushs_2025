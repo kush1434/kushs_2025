{
 "cells": [
  {
   "cell_type": "markdown",
   "metadata": {},
   "source": []
  },
  {
   "cell_type": "markdown",
   "metadata": {},
   "source": [
    "# MCQ Review\n",
    "\n",
    "I did really well on the MCQ and am proud of myself. I worked together with my peers to understand the tougher questions, and their help corrected a mistake I made in binary. This boosted my confidence for the AP test, especially in reasonable time and binary search algorithms. The topics I need to improve are binary search and random values. In all I scored a 52/67 on the exam.\n",
    "\n",
    "<br>\n",
    "\n",
    "<img src=\"/Users/kushshah/nighthawk/kushs_2025/images/Retrospective/mcq_results.png\"  width=\"500\">"
   ]
  },
  {
   "cell_type": "markdown",
   "metadata": {},
   "source": [
    "# Topic Question Refinements\n",
    "\n",
    " - Topic 1.4: \n",
    " <br>\n",
    " \n",
    " <img src=\"/Users/kushshah/nighthawk/kushs_2025/images/Retrospective/q1.png\"  width=\"500\">\n",
    "\n",
    "Correct Answer: D \n",
    "The loop is iterating backward so the index should go down to avoid skipping items\n",
    "\n",
    " - Topic 3.3\n",
    "  <br>\n",
    "\n",
    "<img src=\"/Users/kushshah/nighthawk/kushs_2025/images/Retrospective/q2.png\"  width=\"500\">\n",
    "\n",
    "Correct Answer: B\n",
    "\n",
    "This correctly extracts digits from right to left, storing the remaining number for the next iteration.\n",
    "\n",
    "- Topic 3.4\n",
    " <br>\n",
    "\n",
    " <img src=\"/Users/kushshah/nighthawk/kushs_2025/images/Retrospective/q3.png\"  width=\"500\">\n",
    "\n",
    "Correct Answers: B and C\n",
    "\n",
    "Both answers correctly concatenate the necessary substrings to make \"jackalope\".\n",
    "\n",
    "- Topic 3.11\n",
    " <br>\n",
    "\n",
    " <img src=\"/Users/kushshah/nighthawk/kushs_2025/images/Retrospective/q4.png\"  width=\"500\">\n",
    "\n",
    "Correct Answer: C\n",
    "\n",
    "Binary search only works on a sorted list because it divides the list infinitely to find the target.\n",
    "\n",
    "- Topic 3.15\n",
    " <br>\n",
    "\n",
    " <img src=\"/Users/kushshah/nighthawk/kushs_2025/images/Retrospective/q5.png\"  width=\"500\">\n",
    "\n",
    " Correct Answer: D\n",
    "\n",
    "The correct answer tracks the sum of three flips, checking if all are 0 (tails) or 3 (heads).\n",
    "\n",
    "\n"
   ]
  }
 ],
 "metadata": {
  "language_info": {
   "name": "python"
  }
 },
 "nbformat": 4,
 "nbformat_minor": 2
}
