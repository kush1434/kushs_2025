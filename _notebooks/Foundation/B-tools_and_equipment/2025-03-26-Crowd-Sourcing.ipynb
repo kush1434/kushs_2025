{
 "cells": [
  {
   "cell_type": "markdown",
   "metadata": {},
   "source": []
  },
  {
   "cell_type": "markdown",
   "metadata": {},
   "source": [
    "# Popcorn Hack 1\n",
    "\n",
    "Crowd Voting:\n",
    "- People vote on ideas to identify the most effective solutions\n",
    "\n",
    "Crowd Creation:\n",
    "- Large group develops products\n",
    "\n",
    "Crowdsolving:\n",
    "- Crowd is asked to solve provlems using their expertise"
   ]
  },
  {
   "cell_type": "markdown",
   "metadata": {},
   "source": [
    "# Popcorn Hack 2\n",
    "\n",
    "Data crowdsourcing is gathering data from a large group of people to create datasets. It allows open-source development.\n",
    "\n",
    "Examples of Public Datasets Created Through Crowdsourcing:\n",
    "\n",
    "- Wikipedia\n",
    "\n",
    "- Github\n",
    "\n",
    "- Common Crawl\n"
   ]
  },
  {
   "cell_type": "markdown",
   "metadata": {},
   "source": [
    "# Popcorn Hack 3\n",
    "\n",
    "Distributed computing uses the power of many computers working together to process large datasets. This enchances crowdsourcing.\n",
    "\n",
    "- Google maps\n",
    "\n",
    "- Bitcoin\n",
    "\n",
    "- Folding@home"
   ]
  },
  {
   "cell_type": "markdown",
   "metadata": {},
   "source": [
    "# Homework\n",
    "\n",
    "Crowdsourcing is revolutionizing innovation by tapping into the global resources of people. Through various methods such as voting, content creation, and problem-solving, it encourages collaboration and sparks creativity. Distributed computing enhances these efforts by enabling the processing of large datasets efficiently. Data crowdsourcing supports open-source development by providing accessible and valuable data.\n",
    "\n",
    "As we look to the future, crowdsourcing will continue to drive innovation, enabling us to solve complex problems and create solutions more rapidly than ever before."
   ]
  }
 ],
 "metadata": {
  "language_info": {
   "name": "python"
  }
 },
 "nbformat": 4,
 "nbformat_minor": 2
}
