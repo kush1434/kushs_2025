{
 "cells": [
  {
   "cell_type": "raw",
   "metadata": {
    "vscode": {
     "languageId": "raw"
    }
   },
   "source": [
    "---\n",
    "layout: post\n",
    "title: 3.2 Homework and Popcorn Hacks  \n",
    "description:  Homework and Popcorn Hacks \n",
    "courses: { csp: {week 1} } \n",
    "comments: true\n",
    "sticky_rank: 1\n",
    "---"
   ]
  },
  {
   "cell_type": "code",
   "execution_count": 1,
   "metadata": {},
   "outputs": [
    {
     "name": "stdout",
     "output_type": "stream",
     "text": [
      "1\n"
     ]
    }
   ],
   "source": [
    "popcornhack1 = {\"bananas\": 1, \"apples\": 2, \"pears\": 3 }\n",
    "\n",
    "print(popcornhack1[\"bananas\"])"
   ]
  },
  {
   "cell_type": "code",
   "execution_count": null,
   "metadata": {},
   "outputs": [],
   "source": [
    "firstNumber = int(input(\"Please Enter the First Number Here: \"))\n",
    "secondNumber = int(input(\"Please Enter the Second Number Here: \"))\n",
    "mathFunction = int(input(\"Please Enter the function here: \")) #Ex: +, -, *, /\n",
    "\n",
    "if mathFunction == \"+\":\n",
    "    print(firstNumber + secondNumber)\n",
    "elif mathFunction == \"-\":\n",
    "    print(firstNumber - secondNumber)\n",
    "elif mathFunction == \"*\":\n",
    "    print(firstNumber * secondNumber)\n",
    "elif mathFunction == \"/\":\n",
    "    print(firstNumber / secondNumber)"
   ]
  },
  {
   "cell_type": "code",
   "execution_count": null,
   "metadata": {},
   "outputs": [],
   "source": [
    "firstNumber = int(input(\"Please Enter the First Number Here: \"))\n",
    "secondNumber = int(input(\"Please Enter the Second Number Here: \"))\n",
    "mathFunction = int(input(\"Please Enter the function here: \")) #Ex: +, -, *, /\n",
    "\n",
    "if mathFunction == \"+\":\n",
    "    print(firstNumber + secondNumber)\n",
    "elif mathFunction == \"-\":\n",
    "    print(firstNumber - secondNumber)\n",
    "elif mathFunction == \"*\":\n",
    "    print(firstNumber * secondNumber)\n",
    "elif mathFunction == \"/\":\n",
    "    print(firstNumber / secondNumber)"
   ]
  },
  {
   "cell_type": "code",
   "execution_count": null,
   "metadata": {},
   "outputs": [],
   "source": [
    "\n",
    "def repeat_strings_in_list(strings, n): \n",
    "    result = [] \n",
    "    for string in strings:\n",
    "        result.append(string * n)\n",
    "    return result\n",
    "\n",
    "string_list = [\"hello\", \"world\", \"python\"]\n",
    "print(repeat_strings_in_list(string_list, 3))"
   ]
  },
  {
   "cell_type": "code",
   "execution_count": null,
   "metadata": {},
   "outputs": [],
   "source": [
    "\n",
    "def sets_have_common_elements(set1, set2):\n",
    "    for elem in set1:\n",
    "        if elem in set2:\n",
    "            return True\n",
    "    return False\n",
    "print(sets_have_common_elements({1, 2, 3}, {3, 4}))  # Output: True\n",
    "print(sets_have_common_elements({1, 2, 3}, {4, 5}))  # Output: False\n",
    "print(sets_have_common_elements({1, 2}, {2}))         # Output: False\n",
    "print(sets_have_common_elements({}, {}))             # Output: False\n",
    "    "
   ]
  },
  {
   "cell_type": "code",
   "execution_count": null,
   "metadata": {},
   "outputs": [],
   "source": [
    "profile = {\n",
    "    \"name\": \"Kush\",\n",
    "    \"age\": 15,\n",
    "    \"city\": \"San Diego\",\n",
    "    \"favorite_color\": \"Blue\"\n",
    "}\n",
    "print(\"Profile\", profile)\n",
    "\n",
    "\n",
    "hobbies = [\"Reading\", \"Doing Homework\", \"Playing Basketball\"]\n",
    "print(\"Hobbies:\", hobbies)\n",
    "\n",
    "profile[\"hobbies\"] = hobbies\n",
    "print(\"Updated Profile:\", profile)\n",
    "\n",
    "has_hobby = True # or False\n",
    "print(f\"Is {hobbies[0]} available today? {has_hobby}\")\n",
    "\n",
    "\n",
    "total_hobbies = len(hobbies)\n",
    "print(f\"I have {total_hobbies} hobbies.\")\n",
    "\n",
    "favorite_hobbies = (\"Reading\", \"Biking\")\n",
    "print(\"Favorite Hobbies:\", favorite_hobbies)\n",
    "\n",
    "skills = {\"Reading\", \"Coding\", \"Cooking\"}\n",
    "print(\"Skills:\", skills)\n",
    "\n",
    "new_skill = None\n",
    "print(\"New Skill:\", new_skill)\n",
    "\n",
    "\n",
    "total_cost = float(total_hobbies * 5 + len(skills) * 10)\n",
    "print(f\"Total cost to persue hobbies and skills: $\")"
   ]
  },
  {
   "cell_type": "code",
   "execution_count": 18,
   "metadata": {
    "vscode": {
     "languageId": "javascript"
    }
   },
   "outputs": [
    {
     "data": {
      "application/javascript": "let profile = {\n    name: \"Mihir\",\n    age: 15,\n    city: \"San Diego\",\n    favorite_color: \"Purple\"\n};\nconsole.log(\"Profile\", profile);\n\nlet hobbies = [\"Reading\", \"Doing Homework\", \"Playing Badminton\"];\nconsole.log(\"Hobbies:\", hobbies);\n\nprofile.hobbies = hobbies;\nconsole.log(\"Updated Profile:\", profile);\n\nlet hasHobby = true;\nconsole.log(`Is ${hobbies[0]} available today? ${hasHobby}`);\n\nlet totalHobbies = hobbies.length;\nconsole.log(`I have ${totalHobbies} hobbies.`);\n\nlet favoriteHobbies = [\"Reading\", \"Biking\"];\nconsole.log(\"Favorite Hobbies:\", favoriteHobbies);\n\nlet skills = new Set([\"Reading\", \"Coding\", \"Cooking\"]);\nconsole.log(\"Skills:\", skills);\n\nlet newSkill = null;\nconsole.log(\"New Skill:\", newSkill);\n\nlet totalCost = (totalHobbies * 5) + (skills.size * 10);\nconsole.log(`Total cost to pursue hobbies and skills: $${totalCost.toFixed(2)}`);\n\n",
      "text/plain": [
       "<IPython.core.display.Javascript object>"
      ]
     },
     "metadata": {},
     "output_type": "display_data"
    }
   ],
   "source": [
    "%%javascript\n",
    "let profile = {\n",
    "    name: \"Kush\",\n",
    "    age: 15,\n",
    "    city: \"San Diego\",\n",
    "    favorite_color: \"Purple\"\n",
    "};\n",
    "console.log(\"Profile\", profile);\n",
    "\n",
    "let hobbies = [\"Reading\", \"Doing Homework\", \"Playing Basketball\"];\n",
    "console.log(\"Hobbies:\", hobbies);\n",
    "\n",
    "profile.hobbies = hobbies;\n",
    "console.log(\"Updated Profile:\", profile);\n",
    "\n",
    "let hasHobby = true;\n",
    "console.log(`Is ${hobbies[0]} available today? ${hasHobby}`);\n",
    "\n",
    "let totalHobbies = hobbies.length;\n",
    "console.log(`I have ${totalHobbies} hobbies.`);\n",
    "\n",
    "let favoriteHobbies = [\"Reading\", \"Biking\"];\n",
    "console.log(\"Favorite Hobbies:\", favoriteHobbies);\n",
    "\n",
    "let skills = new Set([\"Reading\", \"Coding\", \"Cooking\"]);\n",
    "console.log(\"Skills:\", skills);\n",
    "\n",
    "let newSkill = null;\n",
    "console.log(\"New Skill:\", newSkill);\n",
    "\n",
    "let totalCost = (totalHobbies * 5) + (skills.size * 10);\n",
    "console.log(`Total cost to pursue hobbies and skills: $${totalCost.toFixed(2)}`);\n",
    "\n"
   ]
  }
 ],
 "metadata": {
  "kernelspec": {
   "display_name": "venv",
   "language": "python",
   "name": "python3"
  },
  "language_info": {
   "codemirror_mode": {
    "name": "ipython",
    "version": 3
   },
   "file_extension": ".py",
   "mimetype": "text/x-python",
   "name": "python",
   "nbconvert_exporter": "python",
   "pygments_lexer": "ipython3",
   "version": "3.12.3"
  }
 },
 "nbformat": 4,
 "nbformat_minor": 2
}
