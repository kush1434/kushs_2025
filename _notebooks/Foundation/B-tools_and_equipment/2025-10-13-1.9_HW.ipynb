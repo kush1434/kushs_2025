{
 "cells": [
  {
   "cell_type": "markdown",
   "id": "f3b6bdf0",
   "metadata": {},
   "source": []
  },
  {
   "cell_type": "markdown",
   "id": "fb84fba6",
   "metadata": {},
   "source": [
    "# Short Answer\n",
    "\n",
    "**Q: Explain why `int sum(int a, int b)` and `double sum(int a, int b)` cannot both exist.**\n",
    "\n",
    "**Answer:** Method signatures include only the method name and parameter types, not the return type. Both have the same signature `sum(int, int)`, so the compiler can't distinguish them.\n",
    "\n",
    "---\n",
    "\n",
    "**Q: In one sentence, distinguish parameters vs arguments.**\n",
    "\n",
    "**Answer:** Parameters are variables in the method definition; arguments are the actual values passed when calling the method.\n",
    "\n",
    "---\n",
    "\n",
    "# Coding Tasks\n",
    "\n",
    "## 1) Three overloads of `abs`"
   ]
  },
  {
   "cell_type": "code",
   "execution_count": null,
   "id": "f868697c",
   "metadata": {
    "vscode": {
     "languageId": "java"
    }
   },
   "outputs": [],
   "source": [
    "public static int abs(int x) {\n",
    "    return x < 0 ? -x : x;\n",
    "}\n",
    "\n",
    "public static double abs(double x) {\n",
    "    return x < 0 ? -x : x;\n",
    "}\n",
    "\n",
    "public static long abs(long x) {\n",
    "    return x < 0 ? -x : x;\n",
    "}"
   ]
  },
  {
   "cell_type": "markdown",
   "id": "99ffea05",
   "metadata": {},
   "source": [
    "## 2) Two overloads of `concat`"
   ]
  },
  {
   "cell_type": "code",
   "execution_count": null,
   "id": "374c3dbe",
   "metadata": {
    "vscode": {
     "languageId": "java"
    }
   },
   "outputs": [],
   "source": [
    "public static String concat(String a, String b) {\n",
    "    return a + b;\n",
    "}\n",
    "\n",
    "public static String concat(String a, int n) {\n",
    "    String result = \"\";\n",
    "    for (int i = 0; i < n; i++) {\n",
    "        result += a;\n",
    "    }\n",
    "    return result;\n",
    "}\n"
   ]
  },
  {
   "cell_type": "markdown",
   "id": "8e602dd6",
   "metadata": {},
   "source": [
    "## 3) Determine output\n",
    "\n",
    "int      // 7 is an int literal\n",
    "long     // 7L is a long literal\n",
    "double   // 7.0 is a double literal"
   ]
  },
  {
   "cell_type": "markdown",
   "id": "9f8be5a5",
   "metadata": {},
   "source": [
    "# FRQ-Style\n",
    "\n",
    "## FRQ 1: `indexOf` overloads"
   ]
  },
  {
   "cell_type": "code",
   "execution_count": null,
   "id": "84a16d11",
   "metadata": {
    "vscode": {
     "languageId": "java"
    }
   },
   "outputs": [],
   "source": [
    "public static int indexOf(char target, String s) {\n",
    "    for (int i = 0; i < s.length(); i++) {\n",
    "        if (s.charAt(i) == target) {\n",
    "            return i;\n",
    "        }\n",
    "    }\n",
    "    return -1;\n",
    "}\n",
    "\n",
    "public static int indexOf(String target, String s) {\n",
    "    if (target.length() == 0) return 0;\n",
    "    if (target.length() > s.length()) return -1;\n",
    "    \n",
    "    for (int i = 0; i <= s.length() - target.length(); i++) {\n",
    "        boolean match = true;\n",
    "        for (int j = 0; j < target.length(); j++) {\n",
    "            if (s.charAt(i + j) != target.charAt(j)) {\n",
    "                match = false;\n",
    "                break;\n",
    "            }\n",
    "        }\n",
    "        if (match) return i;\n",
    "    }\n",
    "    return -1;\n",
    "}"
   ]
  },
  {
   "cell_type": "markdown",
   "id": "f999d9f2",
   "metadata": {},
   "source": [
    "## FRQ 2: `clamp` overloads"
   ]
  },
  {
   "cell_type": "code",
   "execution_count": null,
   "id": "079f08f8",
   "metadata": {
    "vscode": {
     "languageId": "java"
    }
   },
   "outputs": [],
   "source": [
    "public static int clamp(int value, int low, int high) {\n",
    "    if (low > high) {\n",
    "        int temp = low;\n",
    "        low = high;\n",
    "        high = temp;\n",
    "    }\n",
    "    if (value < low) return low;\n",
    "    if (value > high) return high;\n",
    "    return value;\n",
    "}\n",
    "\n",
    "public static double clamp(double value, double low, double high) {\n",
    "    if (low > high) {\n",
    "        double temp = low;\n",
    "        low = high;\n",
    "        high = temp;\n",
    "    }\n",
    "    if (value < low) return low;\n",
    "    if (value > high) return high;\n",
    "    return value;\n",
    "}"
   ]
  }
 ],
 "metadata": {
  "language_info": {
   "name": "python"
  }
 },
 "nbformat": 4,
 "nbformat_minor": 5
}
