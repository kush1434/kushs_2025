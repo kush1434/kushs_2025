{
 "cells": [
  {
   "cell_type": "markdown",
   "metadata": {},
   "source": [
    "# Introduction\n",
    "\n",
    "Deployment is the final step in the software development lifecycle. Before we push our project live, it is crucial to ensure that everything is properly set up, from the frontend to the backend. This guide outlines the essential steps required for deploying a full-stack application, covering everything from server configuration to DNS setup.\n",
    "\n",
    "\n",
    "# Preparing for Deployment\n",
    "\n",
    "Before starting, complete a thorough review of the frontend-to-backend integration. Ensure that your test server is running smoothly locally. If it doesn’t work locally, it won’t work in production.\n",
    "\n",
    "Additionally, document the deployment process, including terms, visuals, and troubleshooting steps. Clearly define roles for Deployment Admins and prepare necessary configuration files in your repository.\n"
   ]
  },
  {
   "cell_type": "markdown",
   "metadata": {},
   "source": [
    "Deployment Steps\n",
    "\n",
    "1. Build and Test\n",
    "Build your application locally and test it to ensure that it works as expected.\n",
    "\n",
    "2. Configure files for Deployment\n",
    "\n"
   ]
  },
  {
   "cell_type": "markdown",
   "metadata": {},
   "source": [
    "motor.stu.nginx_file"
   ]
  },
  {
   "cell_type": "code",
   "execution_count": null,
   "metadata": {
    "vscode": {
     "languageId": "plaintext"
    }
   },
   "outputs": [],
   "source": [
    "server {\n",
    "    listen 80;\n",
    "    listen [::]:80;\n",
    "    server_name motor.stu.nighthawkcodingsociety.com ; # Change server name to the one on R53\n",
    "    # Configure CORS Headers\n",
    "    location / {\n",
    "        proxy_pass http://localhost:8104; # Change port to port on docker\n",
    "        # Simple requests\n",
    "        if ($request_method ~* \"(GET|POST|PUT|DELETE)\") { # Customize Request methods based on your needs\n",
    "                add_header \"Access-Control-Allow-Origin\"  *;\n",
    "        }\n",
    "        # Preflighted requests\n",
    "        if ($request_method = OPTIONS ) {\n",
    "                add_header \"Access-Control-Allow-Origin\"  *;\n",
    "                add_header \"Access-Control-Allow-Methods\" \"GET, POST, PUT, DELETE, OPTIONS, HEAD\"; # Make sure the request methods above match here\n",
    "                add_header \"Access-Control-Allow-Headers\" \"Authorization, Origin, X-Requested-With, Content-Type, Accept\";\n",
    "                return 200;\n",
    "        }\n",
    "    }\n",
    "}"
   ]
  },
  {
   "cell_type": "markdown",
   "metadata": {},
   "source": [
    "docker-compose.yml\n",
    "\n"
   ]
  },
  {
   "cell_type": "code",
   "execution_count": null,
   "metadata": {
    "vscode": {
     "languageId": "plaintext"
    }
   },
   "outputs": [],
   "source": [
    "version: '3'\n",
    "services:\n",
    "        web:\n",
    "                image: motorsports\n",
    "                build: .\n",
    "                env_file:\n",
    "                        - .env # This file is optional; defaults will be used if it does not exist\n",
    "                ports:\n",
    "                        - \"8104:8104\"\n",
    "                volumes:\n",
    "                        - ./instance:/instance\n",
    "                restart: unless-stopped"
   ]
  },
  {
   "cell_type": "markdown",
   "metadata": {},
   "source": [
    "Dockerfile\n",
    "\n"
   ]
  },
  {
   "cell_type": "code",
   "execution_count": null,
   "metadata": {
    "vscode": {
     "languageId": "plaintext"
    }
   },
   "outputs": [],
   "source": [
    "FROM docker.io/python:3.12.8\n",
    "\n",
    "WORKDIR /\n",
    "\n",
    "# --- [Install python and pip] ---\n",
    "RUN apt-get update && apt-get upgrade -y && \\\n",
    "    apt-get install -y python3 python3-pip git\n",
    "COPY . /\n",
    "\n",
    "RUN pip install --no-cache-dir -r requirements.txt\n",
    "RUN pip install gunicorn\n",
    "RUN ./scripts/db_init.py\n",
    "\n",
    "ENV GUNICORN_CMD_ARGS=\"--workers=3 --bind=0.0.0.0:8104\"\n",
    "\n",
    "EXPOSE 8104\n",
    "\n",
    "# Define environment variable\n",
    "ENV FLASK_ENV=production\n",
    "\n",
    "CMD [ \"gunicorn\", \"main:app\" ]"
   ]
  },
  {
   "cell_type": "markdown",
   "metadata": {},
   "source": [
    "3. Deploy to AWS EC2 using cockpit backdoor\n",
    "\n",
    "Clone the repository to the virtual machine\n",
    "\n"
   ]
  },
  {
   "cell_type": "code",
   "execution_count": null,
   "metadata": {
    "vscode": {
     "languageId": "plaintext"
    }
   },
   "outputs": [],
   "source": [
    "git clone https://github.com/Tvick22/personal_flocker_backend.git motor_backend\n",
    "cd motor_backend"
   ]
  },
  {
   "cell_type": "markdown",
   "metadata": {},
   "source": [
    "Recreate the .env file\n",
    "\n"
   ]
  },
  {
   "cell_type": "code",
   "execution_count": null,
   "metadata": {
    "vscode": {
     "languageId": "plaintext"
    }
   },
   "outputs": [],
   "source": [
    "touch .env\n"
   ]
  },
  {
   "cell_type": "markdown",
   "metadata": {},
   "source": [
    "Add the following to the .env file\n",
    "\n"
   ]
  },
  {
   "cell_type": "code",
   "execution_count": null,
   "metadata": {
    "vscode": {
     "languageId": "plaintext"
    }
   },
   "outputs": [],
   "source": [
    "ADMIN_USER='toby'\n",
    "ADMIN_PASSWORD='123Toby!'\n",
    "DEFAULT_USER='hop'\n",
    "DEFAULT_PASSWORD='123Hop!'"
   ]
  },
  {
   "cell_type": "markdown",
   "metadata": {},
   "source": [
    "Ensure that the DOCKERFILE file can initialize the database\n",
    "\n"
   ]
  },
  {
   "cell_type": "code",
   "execution_count": null,
   "metadata": {
    "vscode": {
     "languageId": "plaintext"
    }
   },
   "outputs": [],
   "source": [
    "RUN ./scripts/db_init.py\n"
   ]
  },
  {
   "cell_type": "markdown",
   "metadata": {},
   "source": [
    "Build the docker image\n",
    "\n"
   ]
  },
  {
   "cell_type": "code",
   "execution_count": null,
   "metadata": {
    "vscode": {
     "languageId": "plaintext"
    }
   },
   "outputs": [],
   "source": [
    "docker-compose build\n"
   ]
  },
  {
   "cell_type": "markdown",
   "metadata": {},
   "source": [
    "Run the docker image\n",
    "\n"
   ]
  },
  {
   "cell_type": "code",
   "execution_count": null,
   "metadata": {
    "vscode": {
     "languageId": "plaintext"
    }
   },
   "outputs": [],
   "source": [
    "docker-compose up -d\n"
   ]
  },
  {
   "cell_type": "markdown",
   "metadata": {},
   "source": [
    "Ensure that the docker image is running on our port (8104)\n",
    "\n"
   ]
  },
  {
   "cell_type": "code",
   "execution_count": null,
   "metadata": {
    "vscode": {
     "languageId": "plaintext"
    }
   },
   "outputs": [],
   "source": [
    "docker ps\n"
   ]
  },
  {
   "cell_type": "markdown",
   "metadata": {},
   "source": [
    "Ensure we are running on port 8104\n",
    "\n"
   ]
  },
  {
   "cell_type": "code",
   "execution_count": null,
   "metadata": {
    "vscode": {
     "languageId": "plaintext"
    }
   },
   "outputs": [],
   "source": [
    "curl localhost:8104\n"
   ]
  },
  {
   "cell_type": "markdown",
   "metadata": {},
   "source": [
    "4. Configure DNS (Domain Name)\n",
    "\n",
    "Configure the DNS to point to the EC2 instance. This can be done by creating a new record set in the hosted zone, stu.nighthawkcodingsociety.com. The hosted zone can be found in the AWS console under Route 53. The record set can be created by clicking on Create Record Set and selecting the appropriate values.\n",
    "\n",
    "How is my frontend integrated with my backend?\n",
    "The frontend is integrated with the backend by using a proxy server. The proxy server is responsible for forwarding requests to the appropriate backend server. In this case, the proxy server is NGINX, which is configured to forward requests to the backend server running on port 8104.\n",
    "\n",
    "Step by step exapmle\n",
    "The frontend sends a request to the domain. (motor.stu.nighthawkcodingsociety.com)\n",
    "The domain name is resolved to the IP address of the server. (DNS)\n",
    "The IP address is sent to the proxy server where it is forwarded to the appropriate docker container based on the port (8104). (NGINX)\n",
    "The docker container running on port 8104 receives the request and processes it. (Python Flask)\n",
    "The response is sent back to the proxy server and the proxy server sends it to the frontend. (NGINX to frontend)\n",
    "TCP and Certbot\n",
    "In this exapmle, requrests are sent using the TCP (Transmission Control Protocol) protocol. A three-way TCP handshake establishes a reliable connection between the client (browser) and the server.\n",
    "\n",
    "The Certbot tool is used to encrypt the data sent between the client and the server. This ensures that the data is secure and cannot be intercepted by third parties. It also enables HTTPS, which is a secure version of the HTTP protocol.\n",
    "\n",
    "Physical Connection\n",
    "In this exapmle, the physical connection between the client and the server is established using a Ethernet cable or Wi-Fi or fiber optic cable. IP packets are converted into physical signals, and these signals traverse physical infrastructure, including cables, wireless access points, and routers.\n",
    "\n",
    "Layers of the TCP/IP Model\n",
    "The TCP model is a conceptual framework that describes the functions of a communication system.\n",
    "\n",
    "Application Layer - In this case, the application layer is the frontend web server (Github Pages)\n",
    "Transport Layer - In this case, the transport layer is the TCP protocol and NGINX\n",
    "Network Layer - In this case, the network layer is the IP protocol and Router\n",
    "Physical Layer - In this case, the physical layer is the Ethernet cable or Wi-Fi or fiber optic cable\n"
   ]
  },
  {
   "cell_type": "markdown",
   "metadata": {},
   "source": [
    "Example of a TCP/IP model:\n",
    "\n",
    "![post]({{site.baseurl}}/images/deployment.png)"
   ]
  }
 ],
 "metadata": {
  "language_info": {
   "name": "python"
  }
 },
 "nbformat": 4,
 "nbformat_minor": 2
}
