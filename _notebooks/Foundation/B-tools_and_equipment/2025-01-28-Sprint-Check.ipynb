{
 "cells": [
  {
   "cell_type": "markdown",
   "metadata": {},
   "source": [
    "# Sprint Fullstack Review"
   ]
  },
  {
   "cell_type": "markdown",
   "metadata": {
    "vscode": {
     "languageId": "plaintext"
    }
   },
   "source": [
    "## Purpose of the Program: \n",
    "- To allow users to share their cars and talk about their dream cars with individuals who have similar interests. Also to get help from knowledgeable individuals. \n",
    "\n",
    "## Purpose of Recommendations Page: \n",
    "- To help users discover and explore car listings creating a topic of discussion with other enthusiasts\n"
   ]
  },
  {
   "cell_type": "markdown",
   "metadata": {},
   "source": [
    "it meets the requirement to describe what the program does."
   ]
  },
  {
   "cell_type": "markdown",
   "metadata": {},
   "source": [
    "## Input/Output Requests: \n",
    "- Will be presented live\n"
   ]
  },
  {
   "cell_type": "markdown",
   "metadata": {},
   "source": [
    "## List requests: \n",
    "- When working with API data is transferred in JSON format. To successfully use the data in the DOM, we must parse the JSON data and then insert it into the DOM.\n"
   ]
  },
  {
   "cell_type": "markdown",
   "metadata": {
    "vscode": {
     "languageId": "javascript"
    }
   },
   "source": [
    "![post]({{site.baseurl}}/images/screenshot_1.png)\n",
    "![post]({{site.baseurl}}/images/screenshot_8.png)"
   ]
  },
  {
   "cell_type": "markdown",
   "metadata": {},
   "source": [
    "- This JavaScript function fetches a list of items from an API and inserts them into the webpage.\n",
    "- The getListings() function retrieves data and stores it in the listingsContainer element.\n",
    "- It gets the needed data from the listings list\n",
    "- If the container does not exist, an error message is logged.\n",
    "- This approach ensures that the API data is correctly integrated into the webpage.\n",
    "\n",
    "\n",
    "This is demonstrates data abstraction which is a college board requirment, by dynamically fetching and JSON data and extracting the needed data."
   ]
  },
  {
   "cell_type": "markdown",
   "metadata": {},
   "source": [
    "![post]({{site.baseurl}}/images/screenshot_2.png)"
   ]
  },
  {
   "cell_type": "markdown",
   "metadata": {},
   "source": [
    "- This Python function retrieves all items linked to a user from a database.\n",
    "- If no items are found, it returns a JSON response with an error message and a 404 status code.\n",
    "- If items exist, they are converted into JSON format using a read() method.\n",
    "- The function then returns the formatted data as a JSON response for easy integration with front-end applications.\n",
    "\n",
    "Implements algorithmic processing with selection and sequencing to handle user input and API responses."
   ]
  },
  {
   "cell_type": "markdown",
   "metadata": {},
   "source": [
    "![post]({{site.baseurl}}/images/screenshot_3.png)\n",
    "![post]({{site.baseurl}}/images/screenshot_4.png)\n",
    "![post]({{site.baseurl}}/images/screenshot_5.png)"
   ]
  },
  {
   "cell_type": "markdown",
   "metadata": {},
   "source": [
    "- To interact with specific columns I created a class with methods for create, read, update, and delete operations (CRUD)\n",
    "- The purpose of each of these methods is to make a feature dynamic with the database\n",
    "- The create method is to make an item, used in my favorites API to allow a user to favorite a listing and write an updatable comment along with it\n",
    "- You can display your favorites list and delete a specific favorite listing. \n",
    "\n",
    "College Board expects students to explain how their use of abstraction reduces complexity.\n",
    "Uses data management and iteration to modify stored entries securely via authenticated requests."
   ]
  },
  {
   "cell_type": "markdown",
   "metadata": {},
   "source": [
    "# Algorithmic Code Request:"
   ]
  },
  {
   "cell_type": "markdown",
   "metadata": {},
   "source": [
    "The code calls for the api and gets a response in json. This can then be used to display on the DOM\n",
    "\n",
    "- This JavaScript function sends a request to an API to store an item.\n",
    "- It uses the fetch method with a POST request to send data in JSON format.\n",
    "- If the request is successful, the user is notified that the item has been saved.\n",
    "- If an error occurs, an appropriate message is displayed.\n",
    "- The try...catch block ensures that unexpected errors are handled gracefully."
   ]
  },
  {
   "cell_type": "markdown",
   "metadata": {},
   "source": [
    "![post]({{site.baseurl}}/images/screenshot_6.png)"
   ]
  },
  {
   "cell_type": "markdown",
   "metadata": {},
   "source": [
    "# Algorithmic Request:"
   ]
  },
  {
   "cell_type": "markdown",
   "metadata": {},
   "source": [
    "![post]({{site.baseurl}}/images/screenshot_7.png)\n"
   ]
  },
  {
   "cell_type": "markdown",
   "metadata": {},
   "source": [
    "This class uses the flask_restful library to handle all of the _CRUD methods\n",
    "\n",
    "- This Python function updates a database entry using the PUT method.\n",
    "- It retrieves the current user and request data in JSON format.\n",
    "- The function finds the relevant database entry and updates its content.\n",
    "- Once updated, the new data is saved and returned as a JSON response.\n",
    "- This ensures that users can modify their entries dynamically while maintaining data integrity.\n",
    "\n",
    "This demonstrates algorithmic effeciency by implementing error handling to ensure the data updates."
   ]
  }
 ],
 "metadata": {
  "language_info": {
   "name": "python"
  }
 },
 "nbformat": 4,
 "nbformat_minor": 2
}
